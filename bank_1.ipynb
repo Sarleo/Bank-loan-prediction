{
  "nbformat": 4,
  "nbformat_minor": 0,
  "metadata": {
    "kernelspec": {
      "display_name": "Python 3",
      "language": "python",
      "name": "python3"
    },
    "language_info": {
      "codemirror_mode": {
        "name": "ipython",
        "version": 3
      },
      "file_extension": ".py",
      "mimetype": "text/x-python",
      "name": "python",
      "nbconvert_exporter": "python",
      "pygments_lexer": "ipython3",
      "version": "3.7.3"
    },
    "colab": {
      "name": "merilytics_bank_1.ipynb",
      "version": "0.3.2",
      "provenance": []
    }
  },
  "cells": [
    {
      "cell_type": "code",
      "metadata": {
        "id": "bJ6Rct-rhXkZ",
        "colab_type": "code",
        "colab": {}
      },
      "source": [
        "import csv\n",
        "import pandas as pd\n",
        "import matplotlib.pyplot as plt\n",
        "import numpy as np\n",
        "import math\n",
        "from sklearn.ensemble import GradientBoostingClassifier  #GBM algorithm\n",
        "# from sklearn import cross_validation, metrics   #Additional scklearn functions\n",
        "pd.set_option('display.max_columns', 500)"
      ],
      "execution_count": 0,
      "outputs": []
    },
    {
      "cell_type": "code",
      "metadata": {
        "id": "Frf-XdJ3hzB7",
        "colab_type": "code",
        "outputId": "29d08a39-7c51-4788-800a-a549c9c56281",
        "colab": {
          "base_uri": "https://localhost:8080/",
          "height": 34
        }
      },
      "source": [
        "from google.colab import drive\n",
        "drive.mount('/content/gdrive')\n"
      ],
      "execution_count": 82,
      "outputs": [
        {
          "output_type": "stream",
          "text": [
            "Drive already mounted at /content/gdrive; to attempt to forcibly remount, call drive.mount(\"/content/gdrive\", force_remount=True).\n"
          ],
          "name": "stdout"
        }
      ]
    },
    {
      "cell_type": "code",
      "metadata": {
        "id": "VJ_qHp70h0ce",
        "colab_type": "code",
        "colab": {}
      },
      "source": [
        "import os \n",
        "os.chdir('/content/gdrive/My Drive/Merilytics test')"
      ],
      "execution_count": 0,
      "outputs": []
    },
    {
      "cell_type": "code",
      "metadata": {
        "id": "GO4FGOB9hXke",
        "colab_type": "code",
        "colab": {}
      },
      "source": [
        "df1= pd.read_csv('borrower_table.csv', encoding='latin1', error_bad_lines=False )"
      ],
      "execution_count": 0,
      "outputs": []
    },
    {
      "cell_type": "code",
      "metadata": {
        "id": "uo69ZJ4MhXki",
        "colab_type": "code",
        "colab": {}
      },
      "source": [
        "df2=pd.read_csv('loan_table.csv', encoding='latin1', error_bad_lines=False )"
      ],
      "execution_count": 0,
      "outputs": []
    },
    {
      "cell_type": "code",
      "metadata": {
        "id": "16g_7ykrhXkm",
        "colab_type": "code",
        "outputId": "0beb6c5b-a57b-41af-dec0-c50b0211f70f",
        "colab": {
          "base_uri": "https://localhost:8080/",
          "height": 224
        }
      },
      "source": [
        "df1.head()"
      ],
      "execution_count": 86,
      "outputs": [
        {
          "output_type": "execute_result",
          "data": {
            "text/html": [
              "<div>\n",
              "<style scoped>\n",
              "    .dataframe tbody tr th:only-of-type {\n",
              "        vertical-align: middle;\n",
              "    }\n",
              "\n",
              "    .dataframe tbody tr th {\n",
              "        vertical-align: top;\n",
              "    }\n",
              "\n",
              "    .dataframe thead th {\n",
              "        text-align: right;\n",
              "    }\n",
              "</style>\n",
              "<table border=\"1\" class=\"dataframe\">\n",
              "  <thead>\n",
              "    <tr style=\"text-align: right;\">\n",
              "      <th></th>\n",
              "      <th>loan_id</th>\n",
              "      <th>is_first_loan</th>\n",
              "      <th>fully_repaid_previous_loans</th>\n",
              "      <th>currently_repaying_other_loans</th>\n",
              "      <th>total_credit_card_limit</th>\n",
              "      <th>avg_percentage_credit_card_limit_used_last_year</th>\n",
              "      <th>saving_amount</th>\n",
              "      <th>checking_amount</th>\n",
              "      <th>is_employed</th>\n",
              "      <th>yearly_salary</th>\n",
              "      <th>age</th>\n",
              "      <th>dependent_number</th>\n",
              "    </tr>\n",
              "  </thead>\n",
              "  <tbody>\n",
              "    <tr>\n",
              "      <th>0</th>\n",
              "      <td>289774</td>\n",
              "      <td>1</td>\n",
              "      <td>NaN</td>\n",
              "      <td>NaN</td>\n",
              "      <td>8000</td>\n",
              "      <td>0.49</td>\n",
              "      <td>3285</td>\n",
              "      <td>1073</td>\n",
              "      <td>0</td>\n",
              "      <td>0</td>\n",
              "      <td>47</td>\n",
              "      <td>3</td>\n",
              "    </tr>\n",
              "    <tr>\n",
              "      <th>1</th>\n",
              "      <td>482590</td>\n",
              "      <td>0</td>\n",
              "      <td>1.0</td>\n",
              "      <td>0.0</td>\n",
              "      <td>4500</td>\n",
              "      <td>1.03</td>\n",
              "      <td>636</td>\n",
              "      <td>5299</td>\n",
              "      <td>1</td>\n",
              "      <td>13500</td>\n",
              "      <td>33</td>\n",
              "      <td>1</td>\n",
              "    </tr>\n",
              "    <tr>\n",
              "      <th>2</th>\n",
              "      <td>135565</td>\n",
              "      <td>1</td>\n",
              "      <td>NaN</td>\n",
              "      <td>NaN</td>\n",
              "      <td>6900</td>\n",
              "      <td>0.82</td>\n",
              "      <td>2085</td>\n",
              "      <td>3422</td>\n",
              "      <td>1</td>\n",
              "      <td>24500</td>\n",
              "      <td>38</td>\n",
              "      <td>8</td>\n",
              "    </tr>\n",
              "    <tr>\n",
              "      <th>3</th>\n",
              "      <td>207797</td>\n",
              "      <td>0</td>\n",
              "      <td>1.0</td>\n",
              "      <td>0.0</td>\n",
              "      <td>1200</td>\n",
              "      <td>0.82</td>\n",
              "      <td>358</td>\n",
              "      <td>3388</td>\n",
              "      <td>0</td>\n",
              "      <td>0</td>\n",
              "      <td>24</td>\n",
              "      <td>1</td>\n",
              "    </tr>\n",
              "    <tr>\n",
              "      <th>4</th>\n",
              "      <td>828078</td>\n",
              "      <td>0</td>\n",
              "      <td>0.0</td>\n",
              "      <td>0.0</td>\n",
              "      <td>6900</td>\n",
              "      <td>0.80</td>\n",
              "      <td>2138</td>\n",
              "      <td>4282</td>\n",
              "      <td>1</td>\n",
              "      <td>18100</td>\n",
              "      <td>36</td>\n",
              "      <td>1</td>\n",
              "    </tr>\n",
              "  </tbody>\n",
              "</table>\n",
              "</div>"
            ],
            "text/plain": [
              "   loan_id  is_first_loan  fully_repaid_previous_loans  \\\n",
              "0   289774              1                          NaN   \n",
              "1   482590              0                          1.0   \n",
              "2   135565              1                          NaN   \n",
              "3   207797              0                          1.0   \n",
              "4   828078              0                          0.0   \n",
              "\n",
              "   currently_repaying_other_loans  total_credit_card_limit  \\\n",
              "0                             NaN                     8000   \n",
              "1                             0.0                     4500   \n",
              "2                             NaN                     6900   \n",
              "3                             0.0                     1200   \n",
              "4                             0.0                     6900   \n",
              "\n",
              "   avg_percentage_credit_card_limit_used_last_year  saving_amount  \\\n",
              "0                                             0.49           3285   \n",
              "1                                             1.03            636   \n",
              "2                                             0.82           2085   \n",
              "3                                             0.82            358   \n",
              "4                                             0.80           2138   \n",
              "\n",
              "   checking_amount  is_employed  yearly_salary  age  dependent_number  \n",
              "0             1073            0              0   47                 3  \n",
              "1             5299            1          13500   33                 1  \n",
              "2             3422            1          24500   38                 8  \n",
              "3             3388            0              0   24                 1  \n",
              "4             4282            1          18100   36                 1  "
            ]
          },
          "metadata": {
            "tags": []
          },
          "execution_count": 86
        }
      ]
    },
    {
      "cell_type": "code",
      "metadata": {
        "id": "5tz08K7bhXkr",
        "colab_type": "code",
        "outputId": "de5f382b-4e41-4018-c1f3-24ab3f8012a9",
        "colab": {
          "base_uri": "https://localhost:8080/",
          "height": 34
        }
      },
      "source": [
        "df1.shape"
      ],
      "execution_count": 87,
      "outputs": [
        {
          "output_type": "execute_result",
          "data": {
            "text/plain": [
              "(101100, 12)"
            ]
          },
          "metadata": {
            "tags": []
          },
          "execution_count": 87
        }
      ]
    },
    {
      "cell_type": "code",
      "metadata": {
        "id": "Jnwh-bqlhXkv",
        "colab_type": "code",
        "outputId": "57ed6714-18f5-4018-e0ec-d5ada8446283",
        "colab": {
          "base_uri": "https://localhost:8080/",
          "height": 204
        }
      },
      "source": [
        "df2.head()"
      ],
      "execution_count": 88,
      "outputs": [
        {
          "output_type": "execute_result",
          "data": {
            "text/html": [
              "<div>\n",
              "<style scoped>\n",
              "    .dataframe tbody tr th:only-of-type {\n",
              "        vertical-align: middle;\n",
              "    }\n",
              "\n",
              "    .dataframe tbody tr th {\n",
              "        vertical-align: top;\n",
              "    }\n",
              "\n",
              "    .dataframe thead th {\n",
              "        text-align: right;\n",
              "    }\n",
              "</style>\n",
              "<table border=\"1\" class=\"dataframe\">\n",
              "  <thead>\n",
              "    <tr style=\"text-align: right;\">\n",
              "      <th></th>\n",
              "      <th>loan_id</th>\n",
              "      <th>loan_purpose</th>\n",
              "      <th>date</th>\n",
              "      <th>loan_granted</th>\n",
              "      <th>loan_repaid</th>\n",
              "    </tr>\n",
              "  </thead>\n",
              "  <tbody>\n",
              "    <tr>\n",
              "      <th>0</th>\n",
              "      <td>19454</td>\n",
              "      <td>investment</td>\n",
              "      <td>2012-03-15</td>\n",
              "      <td>0</td>\n",
              "      <td>NaN</td>\n",
              "    </tr>\n",
              "    <tr>\n",
              "      <th>1</th>\n",
              "      <td>496811</td>\n",
              "      <td>investment</td>\n",
              "      <td>2012-01-17</td>\n",
              "      <td>0</td>\n",
              "      <td>NaN</td>\n",
              "    </tr>\n",
              "    <tr>\n",
              "      <th>2</th>\n",
              "      <td>929493</td>\n",
              "      <td>other</td>\n",
              "      <td>2012-02-09</td>\n",
              "      <td>0</td>\n",
              "      <td>NaN</td>\n",
              "    </tr>\n",
              "    <tr>\n",
              "      <th>3</th>\n",
              "      <td>580653</td>\n",
              "      <td>other</td>\n",
              "      <td>2012-06-27</td>\n",
              "      <td>1</td>\n",
              "      <td>1.0</td>\n",
              "    </tr>\n",
              "    <tr>\n",
              "      <th>4</th>\n",
              "      <td>172419</td>\n",
              "      <td>business</td>\n",
              "      <td>2012-05-21</td>\n",
              "      <td>1</td>\n",
              "      <td>0.0</td>\n",
              "    </tr>\n",
              "  </tbody>\n",
              "</table>\n",
              "</div>"
            ],
            "text/plain": [
              "   loan_id loan_purpose        date  loan_granted  loan_repaid\n",
              "0    19454   investment  2012-03-15             0          NaN\n",
              "1   496811   investment  2012-01-17             0          NaN\n",
              "2   929493        other  2012-02-09             0          NaN\n",
              "3   580653        other  2012-06-27             1          1.0\n",
              "4   172419     business  2012-05-21             1          0.0"
            ]
          },
          "metadata": {
            "tags": []
          },
          "execution_count": 88
        }
      ]
    },
    {
      "cell_type": "code",
      "metadata": {
        "id": "GhhUrhPchXk0",
        "colab_type": "code",
        "outputId": "c8606700-e0da-4c83-f2d0-bb8dd7b27ee5",
        "colab": {
          "base_uri": "https://localhost:8080/",
          "height": 34
        }
      },
      "source": [
        "df2.shape"
      ],
      "execution_count": 89,
      "outputs": [
        {
          "output_type": "execute_result",
          "data": {
            "text/plain": [
              "(101100, 5)"
            ]
          },
          "metadata": {
            "tags": []
          },
          "execution_count": 89
        }
      ]
    },
    {
      "cell_type": "markdown",
      "metadata": {
        "id": "JyBduXIghXk4",
        "colab_type": "text"
      },
      "source": [
        "MERGING BOTH DATAFRAMES "
      ]
    },
    {
      "cell_type": "code",
      "metadata": {
        "id": "ojhZKGdwhXk5",
        "colab_type": "code",
        "colab": {}
      },
      "source": [
        "df1=pd.merge(df1, df2, on=['loan_id'], how = 'inner')"
      ],
      "execution_count": 0,
      "outputs": []
    },
    {
      "cell_type": "code",
      "metadata": {
        "id": "xg9cPBFYhXk7",
        "colab_type": "code",
        "outputId": "71f27285-8232-4515-f49f-0cfa9faceba8",
        "colab": {
          "base_uri": "https://localhost:8080/",
          "height": 34
        }
      },
      "source": [
        "df1.shape"
      ],
      "execution_count": 91,
      "outputs": [
        {
          "output_type": "execute_result",
          "data": {
            "text/plain": [
              "(101100, 16)"
            ]
          },
          "metadata": {
            "tags": []
          },
          "execution_count": 91
        }
      ]
    },
    {
      "cell_type": "code",
      "metadata": {
        "id": "QXvrpWxqhXk_",
        "colab_type": "code",
        "outputId": "581f5066-c871-4159-b125-bb236c4e191b",
        "colab": {
          "base_uri": "https://localhost:8080/",
          "height": 309
        }
      },
      "source": [
        "df1.head()"
      ],
      "execution_count": 92,
      "outputs": [
        {
          "output_type": "execute_result",
          "data": {
            "text/html": [
              "<div>\n",
              "<style scoped>\n",
              "    .dataframe tbody tr th:only-of-type {\n",
              "        vertical-align: middle;\n",
              "    }\n",
              "\n",
              "    .dataframe tbody tr th {\n",
              "        vertical-align: top;\n",
              "    }\n",
              "\n",
              "    .dataframe thead th {\n",
              "        text-align: right;\n",
              "    }\n",
              "</style>\n",
              "<table border=\"1\" class=\"dataframe\">\n",
              "  <thead>\n",
              "    <tr style=\"text-align: right;\">\n",
              "      <th></th>\n",
              "      <th>loan_id</th>\n",
              "      <th>is_first_loan</th>\n",
              "      <th>fully_repaid_previous_loans</th>\n",
              "      <th>currently_repaying_other_loans</th>\n",
              "      <th>total_credit_card_limit</th>\n",
              "      <th>avg_percentage_credit_card_limit_used_last_year</th>\n",
              "      <th>saving_amount</th>\n",
              "      <th>checking_amount</th>\n",
              "      <th>is_employed</th>\n",
              "      <th>yearly_salary</th>\n",
              "      <th>age</th>\n",
              "      <th>dependent_number</th>\n",
              "      <th>loan_purpose</th>\n",
              "      <th>date</th>\n",
              "      <th>loan_granted</th>\n",
              "      <th>loan_repaid</th>\n",
              "    </tr>\n",
              "  </thead>\n",
              "  <tbody>\n",
              "    <tr>\n",
              "      <th>0</th>\n",
              "      <td>289774</td>\n",
              "      <td>1</td>\n",
              "      <td>NaN</td>\n",
              "      <td>NaN</td>\n",
              "      <td>8000</td>\n",
              "      <td>0.49</td>\n",
              "      <td>3285</td>\n",
              "      <td>1073</td>\n",
              "      <td>0</td>\n",
              "      <td>0</td>\n",
              "      <td>47</td>\n",
              "      <td>3</td>\n",
              "      <td>business</td>\n",
              "      <td>2012-01-31</td>\n",
              "      <td>0</td>\n",
              "      <td>NaN</td>\n",
              "    </tr>\n",
              "    <tr>\n",
              "      <th>1</th>\n",
              "      <td>482590</td>\n",
              "      <td>0</td>\n",
              "      <td>1.0</td>\n",
              "      <td>0.0</td>\n",
              "      <td>4500</td>\n",
              "      <td>1.03</td>\n",
              "      <td>636</td>\n",
              "      <td>5299</td>\n",
              "      <td>1</td>\n",
              "      <td>13500</td>\n",
              "      <td>33</td>\n",
              "      <td>1</td>\n",
              "      <td>investment</td>\n",
              "      <td>2012-11-02</td>\n",
              "      <td>0</td>\n",
              "      <td>NaN</td>\n",
              "    </tr>\n",
              "    <tr>\n",
              "      <th>2</th>\n",
              "      <td>135565</td>\n",
              "      <td>1</td>\n",
              "      <td>NaN</td>\n",
              "      <td>NaN</td>\n",
              "      <td>6900</td>\n",
              "      <td>0.82</td>\n",
              "      <td>2085</td>\n",
              "      <td>3422</td>\n",
              "      <td>1</td>\n",
              "      <td>24500</td>\n",
              "      <td>38</td>\n",
              "      <td>8</td>\n",
              "      <td>other</td>\n",
              "      <td>2012-07-16</td>\n",
              "      <td>1</td>\n",
              "      <td>1.0</td>\n",
              "    </tr>\n",
              "    <tr>\n",
              "      <th>3</th>\n",
              "      <td>207797</td>\n",
              "      <td>0</td>\n",
              "      <td>1.0</td>\n",
              "      <td>0.0</td>\n",
              "      <td>1200</td>\n",
              "      <td>0.82</td>\n",
              "      <td>358</td>\n",
              "      <td>3388</td>\n",
              "      <td>0</td>\n",
              "      <td>0</td>\n",
              "      <td>24</td>\n",
              "      <td>1</td>\n",
              "      <td>investment</td>\n",
              "      <td>2012-06-05</td>\n",
              "      <td>0</td>\n",
              "      <td>NaN</td>\n",
              "    </tr>\n",
              "    <tr>\n",
              "      <th>4</th>\n",
              "      <td>828078</td>\n",
              "      <td>0</td>\n",
              "      <td>0.0</td>\n",
              "      <td>0.0</td>\n",
              "      <td>6900</td>\n",
              "      <td>0.80</td>\n",
              "      <td>2138</td>\n",
              "      <td>4282</td>\n",
              "      <td>1</td>\n",
              "      <td>18100</td>\n",
              "      <td>36</td>\n",
              "      <td>1</td>\n",
              "      <td>emergency_funds</td>\n",
              "      <td>2012-11-28</td>\n",
              "      <td>0</td>\n",
              "      <td>NaN</td>\n",
              "    </tr>\n",
              "  </tbody>\n",
              "</table>\n",
              "</div>"
            ],
            "text/plain": [
              "   loan_id  is_first_loan  fully_repaid_previous_loans  \\\n",
              "0   289774              1                          NaN   \n",
              "1   482590              0                          1.0   \n",
              "2   135565              1                          NaN   \n",
              "3   207797              0                          1.0   \n",
              "4   828078              0                          0.0   \n",
              "\n",
              "   currently_repaying_other_loans  total_credit_card_limit  \\\n",
              "0                             NaN                     8000   \n",
              "1                             0.0                     4500   \n",
              "2                             NaN                     6900   \n",
              "3                             0.0                     1200   \n",
              "4                             0.0                     6900   \n",
              "\n",
              "   avg_percentage_credit_card_limit_used_last_year  saving_amount  \\\n",
              "0                                             0.49           3285   \n",
              "1                                             1.03            636   \n",
              "2                                             0.82           2085   \n",
              "3                                             0.82            358   \n",
              "4                                             0.80           2138   \n",
              "\n",
              "   checking_amount  is_employed  yearly_salary  age  dependent_number  \\\n",
              "0             1073            0              0   47                 3   \n",
              "1             5299            1          13500   33                 1   \n",
              "2             3422            1          24500   38                 8   \n",
              "3             3388            0              0   24                 1   \n",
              "4             4282            1          18100   36                 1   \n",
              "\n",
              "      loan_purpose        date  loan_granted  loan_repaid  \n",
              "0         business  2012-01-31             0          NaN  \n",
              "1       investment  2012-11-02             0          NaN  \n",
              "2            other  2012-07-16             1          1.0  \n",
              "3       investment  2012-06-05             0          NaN  \n",
              "4  emergency_funds  2012-11-28             0          NaN  "
            ]
          },
          "metadata": {
            "tags": []
          },
          "execution_count": 92
        }
      ]
    },
    {
      "cell_type": "code",
      "metadata": {
        "id": "HHfRZWqYhXlD",
        "colab_type": "code",
        "outputId": "0423f0aa-d1a1-4ad1-8d3f-c659d0525f04",
        "colab": {
          "base_uri": "https://localhost:8080/",
          "height": 306
        }
      },
      "source": [
        "df1.isnull().any()"
      ],
      "execution_count": 93,
      "outputs": [
        {
          "output_type": "execute_result",
          "data": {
            "text/plain": [
              "loan_id                                            False\n",
              "is_first_loan                                      False\n",
              "fully_repaid_previous_loans                         True\n",
              "currently_repaying_other_loans                      True\n",
              "total_credit_card_limit                            False\n",
              "avg_percentage_credit_card_limit_used_last_year     True\n",
              "saving_amount                                      False\n",
              "checking_amount                                    False\n",
              "is_employed                                        False\n",
              "yearly_salary                                      False\n",
              "age                                                False\n",
              "dependent_number                                   False\n",
              "loan_purpose                                       False\n",
              "date                                               False\n",
              "loan_granted                                       False\n",
              "loan_repaid                                         True\n",
              "dtype: bool"
            ]
          },
          "metadata": {
            "tags": []
          },
          "execution_count": 93
        }
      ]
    },
    {
      "cell_type": "code",
      "metadata": {
        "id": "sUSg9j9shXlH",
        "colab_type": "code",
        "colab": {}
      },
      "source": [
        "df1.drop('date', 1, inplace=True)"
      ],
      "execution_count": 0,
      "outputs": []
    },
    {
      "cell_type": "markdown",
      "metadata": {
        "id": "Bmclol1ohXlK",
        "colab_type": "text"
      },
      "source": [
        "DELETING OUTLIERS"
      ]
    },
    {
      "cell_type": "code",
      "metadata": {
        "id": "VzqaErf3hXlL",
        "colab_type": "code",
        "colab": {}
      },
      "source": [
        "down_quantiles = df1['total_credit_card_limit'].quantile(0.05)\n",
        "df1['total_credit_card_limit'].mask(df1['total_credit_card_limit'] < down_quantiles, down_quantiles,inplace=True)\n",
        "upper_quantiles = df1['total_credit_card_limit'].quantile(0.95)\n",
        "df1['total_credit_card_limit'].mask(df1['total_credit_card_limit'] > upper_quantiles, upper_quantiles,inplace=True)"
      ],
      "execution_count": 0,
      "outputs": []
    },
    {
      "cell_type": "code",
      "metadata": {
        "id": "4htgJ6bvhXlO",
        "colab_type": "code",
        "colab": {}
      },
      "source": [
        "down_quantiles = df1['saving_amount'].quantile(0.05)\n",
        "df1['saving_amount'].mask(df1['saving_amount'] < down_quantiles, down_quantiles,inplace=True)\n",
        "upper_quantiles = df1['saving_amount'].quantile(0.95)\n",
        "df1['saving_amount'].mask(df1['saving_amount'] > upper_quantiles, upper_quantiles,inplace=True)"
      ],
      "execution_count": 0,
      "outputs": []
    },
    {
      "cell_type": "code",
      "metadata": {
        "id": "8Pe2IJr5hXlR",
        "colab_type": "code",
        "colab": {}
      },
      "source": [
        "down_quantiles = df1['checking_amount'].quantile(0.05)\n",
        "df1['checking_amount'].mask(df1['checking_amount'] < down_quantiles, down_quantiles,inplace=True)\n",
        "upper_quantiles = df1['checking_amount'].quantile(0.95)\n",
        "df1['checking_amount'].mask(df1['checking_amount'] > upper_quantiles, upper_quantiles,inplace=True)"
      ],
      "execution_count": 0,
      "outputs": []
    },
    {
      "cell_type": "code",
      "metadata": {
        "id": "EUfZoIIBhXlT",
        "colab_type": "code",
        "colab": {}
      },
      "source": [
        "down_quantiles = df1['yearly_salary'].quantile(0.05)\n",
        "df1['yearly_salary'].mask(df1['yearly_salary'] < down_quantiles, down_quantiles,inplace=True)\n",
        "upper_quantiles = df1['yearly_salary'].quantile(0.95)\n",
        "df1['yearly_salary'].mask(df1['yearly_salary'] > upper_quantiles, upper_quantiles,inplace=True)"
      ],
      "execution_count": 0,
      "outputs": []
    },
    {
      "cell_type": "code",
      "metadata": {
        "id": "cf8sAobIhXlX",
        "colab_type": "code",
        "colab": {}
      },
      "source": [
        "down_quantiles = df1['avg_percentage_credit_card_limit_used_last_year'].quantile(0.05)\n",
        "df1['avg_percentage_credit_card_limit_used_last_year'].mask(df1['avg_percentage_credit_card_limit_used_last_year'] < down_quantiles, down_quantiles,inplace=True)\n",
        "upper_quantiles = df1['avg_percentage_credit_card_limit_used_last_year'].quantile(0.95)\n",
        "df1['avg_percentage_credit_card_limit_used_last_year'].mask(df1['avg_percentage_credit_card_limit_used_last_year'] > upper_quantiles, upper_quantiles,inplace=True)"
      ],
      "execution_count": 0,
      "outputs": []
    },
    {
      "cell_type": "markdown",
      "metadata": {
        "id": "w6NOjvkqhXla",
        "colab_type": "text"
      },
      "source": [
        "VECTORISING THE TEXT DATA"
      ]
    },
    {
      "cell_type": "code",
      "metadata": {
        "id": "x8TkxyHshXlc",
        "colab_type": "code",
        "colab": {}
      },
      "source": [
        "data = pd.get_dummies(df1, columns = ['loan_purpose'])"
      ],
      "execution_count": 0,
      "outputs": []
    },
    {
      "cell_type": "code",
      "metadata": {
        "id": "EzJMEjVyhXlg",
        "colab_type": "code",
        "outputId": "87abea12-0548-499c-9bb1-8cdc2935ab13",
        "colab": {
          "base_uri": "https://localhost:8080/",
          "height": 153
        }
      },
      "source": [
        "data.columns"
      ],
      "execution_count": 101,
      "outputs": [
        {
          "output_type": "execute_result",
          "data": {
            "text/plain": [
              "Index(['loan_id', 'is_first_loan', 'fully_repaid_previous_loans',\n",
              "       'currently_repaying_other_loans', 'total_credit_card_limit',\n",
              "       'avg_percentage_credit_card_limit_used_last_year', 'saving_amount',\n",
              "       'checking_amount', 'is_employed', 'yearly_salary', 'age',\n",
              "       'dependent_number', 'loan_granted', 'loan_repaid',\n",
              "       'loan_purpose_business', 'loan_purpose_emergency_funds',\n",
              "       'loan_purpose_home', 'loan_purpose_investment', 'loan_purpose_other'],\n",
              "      dtype='object')"
            ]
          },
          "metadata": {
            "tags": []
          },
          "execution_count": 101
        }
      ]
    },
    {
      "cell_type": "code",
      "metadata": {
        "id": "zgUh9O4bhXlk",
        "colab_type": "code",
        "outputId": "10b92fa9-7ebe-4576-a30e-64fb11daef52",
        "colab": {
          "base_uri": "https://localhost:8080/",
          "height": 34
        }
      },
      "source": [
        "data.shape"
      ],
      "execution_count": 102,
      "outputs": [
        {
          "output_type": "execute_result",
          "data": {
            "text/plain": [
              "(101100, 19)"
            ]
          },
          "metadata": {
            "tags": []
          },
          "execution_count": 102
        }
      ]
    },
    {
      "cell_type": "code",
      "metadata": {
        "id": "O3tY-IGehXln",
        "colab_type": "code",
        "outputId": "77950782-837d-4368-a245-bd565297f91f",
        "colab": {
          "base_uri": "https://localhost:8080/",
          "height": 224
        }
      },
      "source": [
        "data.head(5)"
      ],
      "execution_count": 103,
      "outputs": [
        {
          "output_type": "execute_result",
          "data": {
            "text/html": [
              "<div>\n",
              "<style scoped>\n",
              "    .dataframe tbody tr th:only-of-type {\n",
              "        vertical-align: middle;\n",
              "    }\n",
              "\n",
              "    .dataframe tbody tr th {\n",
              "        vertical-align: top;\n",
              "    }\n",
              "\n",
              "    .dataframe thead th {\n",
              "        text-align: right;\n",
              "    }\n",
              "</style>\n",
              "<table border=\"1\" class=\"dataframe\">\n",
              "  <thead>\n",
              "    <tr style=\"text-align: right;\">\n",
              "      <th></th>\n",
              "      <th>loan_id</th>\n",
              "      <th>is_first_loan</th>\n",
              "      <th>fully_repaid_previous_loans</th>\n",
              "      <th>currently_repaying_other_loans</th>\n",
              "      <th>total_credit_card_limit</th>\n",
              "      <th>avg_percentage_credit_card_limit_used_last_year</th>\n",
              "      <th>saving_amount</th>\n",
              "      <th>checking_amount</th>\n",
              "      <th>is_employed</th>\n",
              "      <th>yearly_salary</th>\n",
              "      <th>age</th>\n",
              "      <th>dependent_number</th>\n",
              "      <th>loan_granted</th>\n",
              "      <th>loan_repaid</th>\n",
              "      <th>loan_purpose_business</th>\n",
              "      <th>loan_purpose_emergency_funds</th>\n",
              "      <th>loan_purpose_home</th>\n",
              "      <th>loan_purpose_investment</th>\n",
              "      <th>loan_purpose_other</th>\n",
              "    </tr>\n",
              "  </thead>\n",
              "  <tbody>\n",
              "    <tr>\n",
              "      <th>0</th>\n",
              "      <td>289774</td>\n",
              "      <td>1</td>\n",
              "      <td>NaN</td>\n",
              "      <td>NaN</td>\n",
              "      <td>7700</td>\n",
              "      <td>0.49</td>\n",
              "      <td>3285.0</td>\n",
              "      <td>1073</td>\n",
              "      <td>0</td>\n",
              "      <td>0</td>\n",
              "      <td>47</td>\n",
              "      <td>3</td>\n",
              "      <td>0</td>\n",
              "      <td>NaN</td>\n",
              "      <td>1</td>\n",
              "      <td>0</td>\n",
              "      <td>0</td>\n",
              "      <td>0</td>\n",
              "      <td>0</td>\n",
              "    </tr>\n",
              "    <tr>\n",
              "      <th>1</th>\n",
              "      <td>482590</td>\n",
              "      <td>0</td>\n",
              "      <td>1.0</td>\n",
              "      <td>0.0</td>\n",
              "      <td>4500</td>\n",
              "      <td>1.02</td>\n",
              "      <td>636.0</td>\n",
              "      <td>5299</td>\n",
              "      <td>1</td>\n",
              "      <td>13500</td>\n",
              "      <td>33</td>\n",
              "      <td>1</td>\n",
              "      <td>0</td>\n",
              "      <td>NaN</td>\n",
              "      <td>0</td>\n",
              "      <td>0</td>\n",
              "      <td>0</td>\n",
              "      <td>1</td>\n",
              "      <td>0</td>\n",
              "    </tr>\n",
              "    <tr>\n",
              "      <th>2</th>\n",
              "      <td>135565</td>\n",
              "      <td>1</td>\n",
              "      <td>NaN</td>\n",
              "      <td>NaN</td>\n",
              "      <td>6900</td>\n",
              "      <td>0.82</td>\n",
              "      <td>2085.0</td>\n",
              "      <td>3422</td>\n",
              "      <td>1</td>\n",
              "      <td>24500</td>\n",
              "      <td>38</td>\n",
              "      <td>8</td>\n",
              "      <td>1</td>\n",
              "      <td>1.0</td>\n",
              "      <td>0</td>\n",
              "      <td>0</td>\n",
              "      <td>0</td>\n",
              "      <td>0</td>\n",
              "      <td>1</td>\n",
              "    </tr>\n",
              "    <tr>\n",
              "      <th>3</th>\n",
              "      <td>207797</td>\n",
              "      <td>0</td>\n",
              "      <td>1.0</td>\n",
              "      <td>0.0</td>\n",
              "      <td>1200</td>\n",
              "      <td>0.82</td>\n",
              "      <td>358.0</td>\n",
              "      <td>3388</td>\n",
              "      <td>0</td>\n",
              "      <td>0</td>\n",
              "      <td>24</td>\n",
              "      <td>1</td>\n",
              "      <td>0</td>\n",
              "      <td>NaN</td>\n",
              "      <td>0</td>\n",
              "      <td>0</td>\n",
              "      <td>0</td>\n",
              "      <td>1</td>\n",
              "      <td>0</td>\n",
              "    </tr>\n",
              "    <tr>\n",
              "      <th>4</th>\n",
              "      <td>828078</td>\n",
              "      <td>0</td>\n",
              "      <td>0.0</td>\n",
              "      <td>0.0</td>\n",
              "      <td>6900</td>\n",
              "      <td>0.80</td>\n",
              "      <td>2138.0</td>\n",
              "      <td>4282</td>\n",
              "      <td>1</td>\n",
              "      <td>18100</td>\n",
              "      <td>36</td>\n",
              "      <td>1</td>\n",
              "      <td>0</td>\n",
              "      <td>NaN</td>\n",
              "      <td>0</td>\n",
              "      <td>1</td>\n",
              "      <td>0</td>\n",
              "      <td>0</td>\n",
              "      <td>0</td>\n",
              "    </tr>\n",
              "  </tbody>\n",
              "</table>\n",
              "</div>"
            ],
            "text/plain": [
              "   loan_id  is_first_loan  fully_repaid_previous_loans  \\\n",
              "0   289774              1                          NaN   \n",
              "1   482590              0                          1.0   \n",
              "2   135565              1                          NaN   \n",
              "3   207797              0                          1.0   \n",
              "4   828078              0                          0.0   \n",
              "\n",
              "   currently_repaying_other_loans  total_credit_card_limit  \\\n",
              "0                             NaN                     7700   \n",
              "1                             0.0                     4500   \n",
              "2                             NaN                     6900   \n",
              "3                             0.0                     1200   \n",
              "4                             0.0                     6900   \n",
              "\n",
              "   avg_percentage_credit_card_limit_used_last_year  saving_amount  \\\n",
              "0                                             0.49         3285.0   \n",
              "1                                             1.02          636.0   \n",
              "2                                             0.82         2085.0   \n",
              "3                                             0.82          358.0   \n",
              "4                                             0.80         2138.0   \n",
              "\n",
              "   checking_amount  is_employed  yearly_salary  age  dependent_number  \\\n",
              "0             1073            0              0   47                 3   \n",
              "1             5299            1          13500   33                 1   \n",
              "2             3422            1          24500   38                 8   \n",
              "3             3388            0              0   24                 1   \n",
              "4             4282            1          18100   36                 1   \n",
              "\n",
              "   loan_granted  loan_repaid  loan_purpose_business  \\\n",
              "0             0          NaN                      1   \n",
              "1             0          NaN                      0   \n",
              "2             1          1.0                      0   \n",
              "3             0          NaN                      0   \n",
              "4             0          NaN                      0   \n",
              "\n",
              "   loan_purpose_emergency_funds  loan_purpose_home  loan_purpose_investment  \\\n",
              "0                             0                  0                        0   \n",
              "1                             0                  0                        1   \n",
              "2                             0                  0                        0   \n",
              "3                             0                  0                        1   \n",
              "4                             1                  0                        0   \n",
              "\n",
              "   loan_purpose_other  \n",
              "0                   0  \n",
              "1                   0  \n",
              "2                   1  \n",
              "3                   0  \n",
              "4                   0  "
            ]
          },
          "metadata": {
            "tags": []
          },
          "execution_count": 103
        }
      ]
    },
    {
      "cell_type": "code",
      "metadata": {
        "id": "2-s7dBGKhXlq",
        "colab_type": "code",
        "colab": {}
      },
      "source": [
        "data.to_csv(\"final_data.csv\")"
      ],
      "execution_count": 0,
      "outputs": []
    },
    {
      "cell_type": "code",
      "metadata": {
        "id": "_o6YHFiwhXlt",
        "colab_type": "code",
        "colab": {}
      },
      "source": [
        "temp = data.drop('loan_granted' , 1)"
      ],
      "execution_count": 0,
      "outputs": []
    },
    {
      "cell_type": "code",
      "metadata": {
        "id": "UspEaB-PjfTJ",
        "colab_type": "code",
        "colab": {
          "base_uri": "https://localhost:8080/",
          "height": 1000
        },
        "outputId": "010f3fd9-23f9-4ccb-e659-de9b44286e14"
      },
      "source": [
        "age=temp['age']\n",
        "age"
      ],
      "execution_count": 106,
      "outputs": [
        {
          "output_type": "execute_result",
          "data": {
            "text/plain": [
              "0         47\n",
              "1         33\n",
              "2         38\n",
              "3         24\n",
              "4         36\n",
              "5         24\n",
              "6         50\n",
              "7         36\n",
              "8         33\n",
              "9         32\n",
              "10        40\n",
              "11        53\n",
              "12        53\n",
              "13        29\n",
              "14        20\n",
              "15        39\n",
              "16        51\n",
              "17        30\n",
              "18        59\n",
              "19        61\n",
              "20        33\n",
              "21        38\n",
              "22        35\n",
              "23        29\n",
              "24        24\n",
              "25        64\n",
              "26        34\n",
              "27        60\n",
              "28        45\n",
              "29        24\n",
              "          ..\n",
              "101070    49\n",
              "101071    27\n",
              "101072    29\n",
              "101073    54\n",
              "101074    50\n",
              "101075    34\n",
              "101076    19\n",
              "101077    37\n",
              "101078    37\n",
              "101079    39\n",
              "101080    48\n",
              "101081    52\n",
              "101082    37\n",
              "101083    22\n",
              "101084    28\n",
              "101085    60\n",
              "101086    33\n",
              "101087    35\n",
              "101088    25\n",
              "101089    40\n",
              "101090    41\n",
              "101091    54\n",
              "101092    75\n",
              "101093    61\n",
              "101094    49\n",
              "101095    47\n",
              "101096    41\n",
              "101097    71\n",
              "101098    44\n",
              "101099    36\n",
              "Name: age, Length: 101100, dtype: int64"
            ]
          },
          "metadata": {
            "tags": []
          },
          "execution_count": 106
        }
      ]
    },
    {
      "cell_type": "code",
      "metadata": {
        "id": "0t0t3LwTjtNm",
        "colab_type": "code",
        "colab": {
          "base_uri": "https://localhost:8080/",
          "height": 507
        },
        "outputId": "3e1e1ff3-7aae-480c-b16a-d6e81de7a704"
      },
      "source": [
        "import matplotlib.pyplot as plt\n",
        "import numpy as np\n",
        "plt.hist(age, density=True, bins=30)\n",
        "# 3 bins 20-35,35-50,50-80"
      ],
      "execution_count": 107,
      "outputs": [
        {
          "output_type": "execute_result",
          "data": {
            "text/plain": [
              "(array([0.0167826 , 0.01347473, 0.01658802, 0.0182225 , 0.02044073,\n",
              "        0.02253247, 0.0245853 , 0.02660894, 0.02748456, 0.0281364 ,\n",
              "        0.02827261, 0.02680352, 0.02613222, 0.02643382, 0.02564577,\n",
              "        0.02250328, 0.02106338, 0.01858248, 0.01588753, 0.01397091,\n",
              "        0.01134407, 0.00954419, 0.00794863, 0.00605147, 0.00502992,\n",
              "        0.00358029, 0.00293817, 0.0021112 , 0.00156638, 0.00153719]),\n",
              " array([18.        , 20.03333333, 22.06666667, 24.1       , 26.13333333,\n",
              "        28.16666667, 30.2       , 32.23333333, 34.26666667, 36.3       ,\n",
              "        38.33333333, 40.36666667, 42.4       , 44.43333333, 46.46666667,\n",
              "        48.5       , 50.53333333, 52.56666667, 54.6       , 56.63333333,\n",
              "        58.66666667, 60.7       , 62.73333333, 64.76666667, 66.8       ,\n",
              "        68.83333333, 70.86666667, 72.9       , 74.93333333, 76.96666667,\n",
              "        79.        ]),\n",
              " <a list of 30 Patch objects>)"
            ]
          },
          "metadata": {
            "tags": []
          },
          "execution_count": 107
        },
        {
          "output_type": "display_data",
          "data": {
            "image/png": "[encoded data removed]",
            "text/plain": [
              "<Figure size 432x288 with 1 Axes>"
            ]
          },
          "metadata": {
            "tags": []
          }
        }
      ]
    },
    {
      "cell_type": "code",
      "metadata": {
        "id": "ii1Dqx1ykphC",
        "colab_type": "code",
        "colab": {
          "base_uri": "https://localhost:8080/",
          "height": 1000
        },
        "outputId": "67c2ab72-e349-4c6e-a053-dc8152cda6b3"
      },
      "source": [
        "labels =[1,2,3]\n",
        "b_age=pd.cut(temp['age'], 3,labels=labels)\n",
        "b_age\n",
        "#from the histograms we can verify the age intervals here to be true"
      ],
      "execution_count": 108,
      "outputs": [
        {
          "output_type": "execute_result",
          "data": {
            "text/plain": [
              "0         2\n",
              "1         1\n",
              "2         1\n",
              "3         1\n",
              "4         1\n",
              "5         1\n",
              "6         2\n",
              "7         1\n",
              "8         1\n",
              "9         1\n",
              "10        2\n",
              "11        2\n",
              "12        2\n",
              "13        1\n",
              "14        1\n",
              "15        2\n",
              "16        2\n",
              "17        1\n",
              "18        3\n",
              "19        3\n",
              "20        1\n",
              "21        1\n",
              "22        1\n",
              "23        1\n",
              "24        1\n",
              "25        3\n",
              "26        1\n",
              "27        3\n",
              "28        2\n",
              "29        1\n",
              "         ..\n",
              "101070    2\n",
              "101071    1\n",
              "101072    1\n",
              "101073    2\n",
              "101074    2\n",
              "101075    1\n",
              "101076    1\n",
              "101077    1\n",
              "101078    1\n",
              "101079    2\n",
              "101080    2\n",
              "101081    2\n",
              "101082    1\n",
              "101083    1\n",
              "101084    1\n",
              "101085    3\n",
              "101086    1\n",
              "101087    1\n",
              "101088    1\n",
              "101089    2\n",
              "101090    2\n",
              "101091    2\n",
              "101092    3\n",
              "101093    3\n",
              "101094    2\n",
              "101095    2\n",
              "101096    2\n",
              "101097    3\n",
              "101098    2\n",
              "101099    1\n",
              "Name: age, Length: 101100, dtype: category\n",
              "Categories (3, int64): [1 < 2 < 3]"
            ]
          },
          "metadata": {
            "tags": []
          },
          "execution_count": 108
        }
      ]
    },
    {
      "cell_type": "code",
      "metadata": {
        "id": "hiOy5QB2l-qx",
        "colab_type": "code",
        "colab": {}
      },
      "source": [
        "temp[\"age\"]=b_age"
      ],
      "execution_count": 0,
      "outputs": []
    },
    {
      "cell_type": "code",
      "metadata": {
        "id": "5BuNMw0XhXlv",
        "colab_type": "code",
        "colab": {}
      },
      "source": [
        "#df_x=temp.drop(\"age\" , 1)\n",
        "df_x=temp"
      ],
      "execution_count": 0,
      "outputs": []
    },
    {
      "cell_type": "code",
      "metadata": {
        "id": "PGcX9xL9hXlx",
        "colab_type": "code",
        "outputId": "0c535d53-5f04-4dbd-92e7-4f0f1ac968c5",
        "colab": {
          "base_uri": "https://localhost:8080/",
          "height": 224
        }
      },
      "source": [
        "df_x.head()"
      ],
      "execution_count": 111,
      "outputs": [
        {
          "output_type": "execute_result",
          "data": {
            "text/html": [
              "<div>\n",
              "<style scoped>\n",
              "    .dataframe tbody tr th:only-of-type {\n",
              "        vertical-align: middle;\n",
              "    }\n",
              "\n",
              "    .dataframe tbody tr th {\n",
              "        vertical-align: top;\n",
              "    }\n",
              "\n",
              "    .dataframe thead th {\n",
              "        text-align: right;\n",
              "    }\n",
              "</style>\n",
              "<table border=\"1\" class=\"dataframe\">\n",
              "  <thead>\n",
              "    <tr style=\"text-align: right;\">\n",
              "      <th></th>\n",
              "      <th>loan_id</th>\n",
              "      <th>is_first_loan</th>\n",
              "      <th>fully_repaid_previous_loans</th>\n",
              "      <th>currently_repaying_other_loans</th>\n",
              "      <th>total_credit_card_limit</th>\n",
              "      <th>avg_percentage_credit_card_limit_used_last_year</th>\n",
              "      <th>saving_amount</th>\n",
              "      <th>checking_amount</th>\n",
              "      <th>is_employed</th>\n",
              "      <th>yearly_salary</th>\n",
              "      <th>age</th>\n",
              "      <th>dependent_number</th>\n",
              "      <th>loan_repaid</th>\n",
              "      <th>loan_purpose_business</th>\n",
              "      <th>loan_purpose_emergency_funds</th>\n",
              "      <th>loan_purpose_home</th>\n",
              "      <th>loan_purpose_investment</th>\n",
              "      <th>loan_purpose_other</th>\n",
              "    </tr>\n",
              "  </thead>\n",
              "  <tbody>\n",
              "    <tr>\n",
              "      <th>0</th>\n",
              "      <td>289774</td>\n",
              "      <td>1</td>\n",
              "      <td>NaN</td>\n",
              "      <td>NaN</td>\n",
              "      <td>7700</td>\n",
              "      <td>0.49</td>\n",
              "      <td>3285.0</td>\n",
              "      <td>1073</td>\n",
              "      <td>0</td>\n",
              "      <td>0</td>\n",
              "      <td>2</td>\n",
              "      <td>3</td>\n",
              "      <td>NaN</td>\n",
              "      <td>1</td>\n",
              "      <td>0</td>\n",
              "      <td>0</td>\n",
              "      <td>0</td>\n",
              "      <td>0</td>\n",
              "    </tr>\n",
              "    <tr>\n",
              "      <th>1</th>\n",
              "      <td>482590</td>\n",
              "      <td>0</td>\n",
              "      <td>1.0</td>\n",
              "      <td>0.0</td>\n",
              "      <td>4500</td>\n",
              "      <td>1.02</td>\n",
              "      <td>636.0</td>\n",
              "      <td>5299</td>\n",
              "      <td>1</td>\n",
              "      <td>13500</td>\n",
              "      <td>1</td>\n",
              "      <td>1</td>\n",
              "      <td>NaN</td>\n",
              "      <td>0</td>\n",
              "      <td>0</td>\n",
              "      <td>0</td>\n",
              "      <td>1</td>\n",
              "      <td>0</td>\n",
              "    </tr>\n",
              "    <tr>\n",
              "      <th>2</th>\n",
              "      <td>135565</td>\n",
              "      <td>1</td>\n",
              "      <td>NaN</td>\n",
              "      <td>NaN</td>\n",
              "      <td>6900</td>\n",
              "      <td>0.82</td>\n",
              "      <td>2085.0</td>\n",
              "      <td>3422</td>\n",
              "      <td>1</td>\n",
              "      <td>24500</td>\n",
              "      <td>1</td>\n",
              "      <td>8</td>\n",
              "      <td>1.0</td>\n",
              "      <td>0</td>\n",
              "      <td>0</td>\n",
              "      <td>0</td>\n",
              "      <td>0</td>\n",
              "      <td>1</td>\n",
              "    </tr>\n",
              "    <tr>\n",
              "      <th>3</th>\n",
              "      <td>207797</td>\n",
              "      <td>0</td>\n",
              "      <td>1.0</td>\n",
              "      <td>0.0</td>\n",
              "      <td>1200</td>\n",
              "      <td>0.82</td>\n",
              "      <td>358.0</td>\n",
              "      <td>3388</td>\n",
              "      <td>0</td>\n",
              "      <td>0</td>\n",
              "      <td>1</td>\n",
              "      <td>1</td>\n",
              "      <td>NaN</td>\n",
              "      <td>0</td>\n",
              "      <td>0</td>\n",
              "      <td>0</td>\n",
              "      <td>1</td>\n",
              "      <td>0</td>\n",
              "    </tr>\n",
              "    <tr>\n",
              "      <th>4</th>\n",
              "      <td>828078</td>\n",
              "      <td>0</td>\n",
              "      <td>0.0</td>\n",
              "      <td>0.0</td>\n",
              "      <td>6900</td>\n",
              "      <td>0.80</td>\n",
              "      <td>2138.0</td>\n",
              "      <td>4282</td>\n",
              "      <td>1</td>\n",
              "      <td>18100</td>\n",
              "      <td>1</td>\n",
              "      <td>1</td>\n",
              "      <td>NaN</td>\n",
              "      <td>0</td>\n",
              "      <td>1</td>\n",
              "      <td>0</td>\n",
              "      <td>0</td>\n",
              "      <td>0</td>\n",
              "    </tr>\n",
              "  </tbody>\n",
              "</table>\n",
              "</div>"
            ],
            "text/plain": [
              "   loan_id  is_first_loan  fully_repaid_previous_loans  \\\n",
              "0   289774              1                          NaN   \n",
              "1   482590              0                          1.0   \n",
              "2   135565              1                          NaN   \n",
              "3   207797              0                          1.0   \n",
              "4   828078              0                          0.0   \n",
              "\n",
              "   currently_repaying_other_loans  total_credit_card_limit  \\\n",
              "0                             NaN                     7700   \n",
              "1                             0.0                     4500   \n",
              "2                             NaN                     6900   \n",
              "3                             0.0                     1200   \n",
              "4                             0.0                     6900   \n",
              "\n",
              "   avg_percentage_credit_card_limit_used_last_year  saving_amount  \\\n",
              "0                                             0.49         3285.0   \n",
              "1                                             1.02          636.0   \n",
              "2                                             0.82         2085.0   \n",
              "3                                             0.82          358.0   \n",
              "4                                             0.80         2138.0   \n",
              "\n",
              "   checking_amount  is_employed  yearly_salary age  dependent_number  \\\n",
              "0             1073            0              0   2                 3   \n",
              "1             5299            1          13500   1                 1   \n",
              "2             3422            1          24500   1                 8   \n",
              "3             3388            0              0   1                 1   \n",
              "4             4282            1          18100   1                 1   \n",
              "\n",
              "   loan_repaid  loan_purpose_business  loan_purpose_emergency_funds  \\\n",
              "0          NaN                      1                             0   \n",
              "1          NaN                      0                             0   \n",
              "2          1.0                      0                             0   \n",
              "3          NaN                      0                             0   \n",
              "4          NaN                      0                             1   \n",
              "\n",
              "   loan_purpose_home  loan_purpose_investment  loan_purpose_other  \n",
              "0                  0                        0                   0  \n",
              "1                  0                        1                   0  \n",
              "2                  0                        0                   1  \n",
              "3                  0                        1                   0  \n",
              "4                  0                        0                   0  "
            ]
          },
          "metadata": {
            "tags": []
          },
          "execution_count": 111
        }
      ]
    },
    {
      "cell_type": "markdown",
      "metadata": {
        "id": "19jAX9ObhXl0",
        "colab_type": "text"
      },
      "source": [
        "REPLACING NUL VALUES WITH -1"
      ]
    },
    {
      "cell_type": "code",
      "metadata": {
        "id": "t7owSc0hhXl0",
        "colab_type": "code",
        "colab": {}
      },
      "source": [
        "df_x.fully_repaid_previous_loans.replace(np.nan, -1, regex=True , inplace=True)"
      ],
      "execution_count": 0,
      "outputs": []
    },
    {
      "cell_type": "code",
      "metadata": {
        "id": "y4cY3lgshXl4",
        "colab_type": "code",
        "colab": {}
      },
      "source": [
        "df_x.currently_repaying_other_loans.replace(np.nan, -1, regex=True , inplace=True)"
      ],
      "execution_count": 0,
      "outputs": []
    },
    {
      "cell_type": "code",
      "metadata": {
        "id": "l6tmTMKbhXl7",
        "colab_type": "code",
        "colab": {}
      },
      "source": [
        "df_x.avg_percentage_credit_card_limit_used_last_year.replace(np.nan, -1, regex=True , inplace=True)"
      ],
      "execution_count": 0,
      "outputs": []
    },
    {
      "cell_type": "code",
      "metadata": {
        "id": "WI6PHi-VhXl9",
        "colab_type": "code",
        "colab": {}
      },
      "source": [
        "df_x.loan_repaid.replace(np.nan, -1, regex=True , inplace=True)"
      ],
      "execution_count": 0,
      "outputs": []
    },
    {
      "cell_type": "code",
      "metadata": {
        "id": "kfHuRFZKhXmA",
        "colab_type": "code",
        "outputId": "0dbc4c90-087d-4ae9-f3f9-3c2546969fde",
        "colab": {
          "base_uri": "https://localhost:8080/",
          "height": 340
        }
      },
      "source": [
        "df_x.isnull().any()"
      ],
      "execution_count": 116,
      "outputs": [
        {
          "output_type": "execute_result",
          "data": {
            "text/plain": [
              "loan_id                                            False\n",
              "is_first_loan                                      False\n",
              "fully_repaid_previous_loans                        False\n",
              "currently_repaying_other_loans                     False\n",
              "total_credit_card_limit                            False\n",
              "avg_percentage_credit_card_limit_used_last_year    False\n",
              "saving_amount                                      False\n",
              "checking_amount                                    False\n",
              "is_employed                                        False\n",
              "yearly_salary                                      False\n",
              "age                                                False\n",
              "dependent_number                                   False\n",
              "loan_repaid                                        False\n",
              "loan_purpose_business                              False\n",
              "loan_purpose_emergency_funds                       False\n",
              "loan_purpose_home                                  False\n",
              "loan_purpose_investment                            False\n",
              "loan_purpose_other                                 False\n",
              "dtype: bool"
            ]
          },
          "metadata": {
            "tags": []
          },
          "execution_count": 116
        }
      ]
    },
    {
      "cell_type": "code",
      "metadata": {
        "id": "tqmMhJFNhXmC",
        "colab_type": "code",
        "outputId": "c9f0e826-b4fa-4e8c-ba0b-1eac835a6ee6",
        "colab": {
          "base_uri": "https://localhost:8080/",
          "height": 85
        }
      },
      "source": [
        "df_x.loan_repaid.value_counts()"
      ],
      "execution_count": 117,
      "outputs": [
        {
          "output_type": "execute_result",
          "data": {
            "text/plain": [
              "-1.0    53446\n",
              " 1.0    30706\n",
              " 0.0    16948\n",
              "Name: loan_repaid, dtype: int64"
            ]
          },
          "metadata": {
            "tags": []
          },
          "execution_count": 117
        }
      ]
    },
    {
      "cell_type": "markdown",
      "metadata": {
        "id": "p7VKkCCRhXmF",
        "colab_type": "text"
      },
      "source": [
        "SEPARATING DATA :\n",
        "\n",
        "1 PEOPLE WHO DIDN'T GET LOAD \n",
        "\n",
        "2 PEOPLE WHO GOT LOAN "
      ]
    },
    {
      "cell_type": "code",
      "metadata": {
        "id": "Ewpd7IAuhXmG",
        "colab_type": "code",
        "colab": {}
      },
      "source": [
        "later_test=df_x.loc[df_x['loan_repaid'] == -1]"
      ],
      "execution_count": 0,
      "outputs": []
    },
    {
      "cell_type": "code",
      "metadata": {
        "id": "RJ6rCJ6jhXmI",
        "colab_type": "code",
        "outputId": "ea40e0aa-496b-4bf2-c794-b7ebb908c977",
        "colab": {
          "base_uri": "https://localhost:8080/",
          "height": 34
        }
      },
      "source": [
        "later_test.shape"
      ],
      "execution_count": 119,
      "outputs": [
        {
          "output_type": "execute_result",
          "data": {
            "text/plain": [
              "(53446, 18)"
            ]
          },
          "metadata": {
            "tags": []
          },
          "execution_count": 119
        }
      ]
    },
    {
      "cell_type": "code",
      "metadata": {
        "id": "nG5s08FXhXmL",
        "colab_type": "code",
        "colab": {}
      },
      "source": [
        "sample_data=df_x.loc[(df_x['loan_repaid'] == 1) | (df_x['loan_repaid'] == 0 )]"
      ],
      "execution_count": 0,
      "outputs": []
    },
    {
      "cell_type": "code",
      "metadata": {
        "id": "baz5zgcJhXmP",
        "colab_type": "code",
        "outputId": "2554c723-3c76-4b25-c501-454b6ed56721",
        "colab": {
          "base_uri": "https://localhost:8080/",
          "height": 34
        }
      },
      "source": [
        "sample_data.shape"
      ],
      "execution_count": 121,
      "outputs": [
        {
          "output_type": "execute_result",
          "data": {
            "text/plain": [
              "(47654, 18)"
            ]
          },
          "metadata": {
            "tags": []
          },
          "execution_count": 121
        }
      ]
    },
    {
      "cell_type": "code",
      "metadata": {
        "id": "BCyo3lYJhXmS",
        "colab_type": "code",
        "colab": {}
      },
      "source": [
        "loan_id= later_test.iloc[:, 0]"
      ],
      "execution_count": 0,
      "outputs": []
    },
    {
      "cell_type": "code",
      "metadata": {
        "id": "B5jQKVBahXmU",
        "colab_type": "code",
        "outputId": "296f8ccf-117c-4605-d3f7-e21cf331242a",
        "colab": {
          "base_uri": "https://localhost:8080/",
          "height": 119
        }
      },
      "source": [
        "loan_id.head()"
      ],
      "execution_count": 123,
      "outputs": [
        {
          "output_type": "execute_result",
          "data": {
            "text/plain": [
              "0    289774\n",
              "1    482590\n",
              "3    207797\n",
              "4    828078\n",
              "6    568977\n",
              "Name: loan_id, dtype: int64"
            ]
          },
          "metadata": {
            "tags": []
          },
          "execution_count": 123
        }
      ]
    },
    {
      "cell_type": "code",
      "metadata": {
        "id": "1_ghKls2hXmW",
        "colab_type": "code",
        "colab": {}
      },
      "source": [
        "sample_data= sample_data.drop(\"loan_id\" , 1)"
      ],
      "execution_count": 0,
      "outputs": []
    },
    {
      "cell_type": "code",
      "metadata": {
        "id": "9E9aPL2nhXmY",
        "colab_type": "code",
        "colab": {}
      },
      "source": [
        "later_test = later_test.drop('loan_id' , 1)"
      ],
      "execution_count": 0,
      "outputs": []
    },
    {
      "cell_type": "code",
      "metadata": {
        "id": "wcLFsWOmhXmb",
        "colab_type": "code",
        "colab": {}
      },
      "source": [
        "df_y = sample_data.iloc[:, 11]"
      ],
      "execution_count": 0,
      "outputs": []
    },
    {
      "cell_type": "code",
      "metadata": {
        "id": "y6iTrqvEhXmd",
        "colab_type": "code",
        "outputId": "228a280c-be9c-4ea8-c58e-884f54805754",
        "colab": {
          "base_uri": "https://localhost:8080/",
          "height": 119
        }
      },
      "source": [
        "df_y.head()"
      ],
      "execution_count": 127,
      "outputs": [
        {
          "output_type": "execute_result",
          "data": {
            "text/plain": [
              "2    1.0\n",
              "5    1.0\n",
              "7    0.0\n",
              "8    1.0\n",
              "9    1.0\n",
              "Name: loan_repaid, dtype: float64"
            ]
          },
          "metadata": {
            "tags": []
          },
          "execution_count": 127
        }
      ]
    },
    {
      "cell_type": "code",
      "metadata": {
        "id": "XbMWh8hGhXmk",
        "colab_type": "code",
        "colab": {}
      },
      "source": [
        "df_x = sample_data.drop('loan_repaid' , 1)"
      ],
      "execution_count": 0,
      "outputs": []
    },
    {
      "cell_type": "code",
      "metadata": {
        "id": "kHf5sTJUhXmm",
        "colab_type": "code",
        "outputId": "ac1cc80e-81a4-4e84-fcd3-d95d7b1c295e",
        "colab": {
          "base_uri": "https://localhost:8080/",
          "height": 224
        }
      },
      "source": [
        "df_x.head()"
      ],
      "execution_count": 129,
      "outputs": [
        {
          "output_type": "execute_result",
          "data": {
            "text/html": [
              "<div>\n",
              "<style scoped>\n",
              "    .dataframe tbody tr th:only-of-type {\n",
              "        vertical-align: middle;\n",
              "    }\n",
              "\n",
              "    .dataframe tbody tr th {\n",
              "        vertical-align: top;\n",
              "    }\n",
              "\n",
              "    .dataframe thead th {\n",
              "        text-align: right;\n",
              "    }\n",
              "</style>\n",
              "<table border=\"1\" class=\"dataframe\">\n",
              "  <thead>\n",
              "    <tr style=\"text-align: right;\">\n",
              "      <th></th>\n",
              "      <th>is_first_loan</th>\n",
              "      <th>fully_repaid_previous_loans</th>\n",
              "      <th>currently_repaying_other_loans</th>\n",
              "      <th>total_credit_card_limit</th>\n",
              "      <th>avg_percentage_credit_card_limit_used_last_year</th>\n",
              "      <th>saving_amount</th>\n",
              "      <th>checking_amount</th>\n",
              "      <th>is_employed</th>\n",
              "      <th>yearly_salary</th>\n",
              "      <th>age</th>\n",
              "      <th>dependent_number</th>\n",
              "      <th>loan_purpose_business</th>\n",
              "      <th>loan_purpose_emergency_funds</th>\n",
              "      <th>loan_purpose_home</th>\n",
              "      <th>loan_purpose_investment</th>\n",
              "      <th>loan_purpose_other</th>\n",
              "    </tr>\n",
              "  </thead>\n",
              "  <tbody>\n",
              "    <tr>\n",
              "      <th>2</th>\n",
              "      <td>1</td>\n",
              "      <td>-1.0</td>\n",
              "      <td>-1.0</td>\n",
              "      <td>6900</td>\n",
              "      <td>0.82</td>\n",
              "      <td>2085.00</td>\n",
              "      <td>3422</td>\n",
              "      <td>1</td>\n",
              "      <td>24500</td>\n",
              "      <td>1</td>\n",
              "      <td>8</td>\n",
              "      <td>0</td>\n",
              "      <td>0</td>\n",
              "      <td>0</td>\n",
              "      <td>0</td>\n",
              "      <td>1</td>\n",
              "    </tr>\n",
              "    <tr>\n",
              "      <th>5</th>\n",
              "      <td>1</td>\n",
              "      <td>-1.0</td>\n",
              "      <td>-1.0</td>\n",
              "      <td>6100</td>\n",
              "      <td>0.53</td>\n",
              "      <td>4751.05</td>\n",
              "      <td>5298</td>\n",
              "      <td>1</td>\n",
              "      <td>29500</td>\n",
              "      <td>1</td>\n",
              "      <td>1</td>\n",
              "      <td>0</td>\n",
              "      <td>0</td>\n",
              "      <td>0</td>\n",
              "      <td>0</td>\n",
              "      <td>1</td>\n",
              "    </tr>\n",
              "    <tr>\n",
              "      <th>7</th>\n",
              "      <td>1</td>\n",
              "      <td>-1.0</td>\n",
              "      <td>-1.0</td>\n",
              "      <td>4000</td>\n",
              "      <td>0.57</td>\n",
              "      <td>602.00</td>\n",
              "      <td>2757</td>\n",
              "      <td>1</td>\n",
              "      <td>31700</td>\n",
              "      <td>1</td>\n",
              "      <td>8</td>\n",
              "      <td>1</td>\n",
              "      <td>0</td>\n",
              "      <td>0</td>\n",
              "      <td>0</td>\n",
              "      <td>0</td>\n",
              "    </tr>\n",
              "    <tr>\n",
              "      <th>8</th>\n",
              "      <td>0</td>\n",
              "      <td>1.0</td>\n",
              "      <td>0.0</td>\n",
              "      <td>7000</td>\n",
              "      <td>0.52</td>\n",
              "      <td>2575.00</td>\n",
              "      <td>2917</td>\n",
              "      <td>1</td>\n",
              "      <td>53300</td>\n",
              "      <td>1</td>\n",
              "      <td>3</td>\n",
              "      <td>0</td>\n",
              "      <td>1</td>\n",
              "      <td>0</td>\n",
              "      <td>0</td>\n",
              "      <td>0</td>\n",
              "    </tr>\n",
              "    <tr>\n",
              "      <th>9</th>\n",
              "      <td>0</td>\n",
              "      <td>1.0</td>\n",
              "      <td>0.0</td>\n",
              "      <td>4300</td>\n",
              "      <td>0.83</td>\n",
              "      <td>722.00</td>\n",
              "      <td>892</td>\n",
              "      <td>1</td>\n",
              "      <td>5400</td>\n",
              "      <td>1</td>\n",
              "      <td>7</td>\n",
              "      <td>1</td>\n",
              "      <td>0</td>\n",
              "      <td>0</td>\n",
              "      <td>0</td>\n",
              "      <td>0</td>\n",
              "    </tr>\n",
              "  </tbody>\n",
              "</table>\n",
              "</div>"
            ],
            "text/plain": [
              "   is_first_loan  fully_repaid_previous_loans  currently_repaying_other_loans  \\\n",
              "2              1                         -1.0                            -1.0   \n",
              "5              1                         -1.0                            -1.0   \n",
              "7              1                         -1.0                            -1.0   \n",
              "8              0                          1.0                             0.0   \n",
              "9              0                          1.0                             0.0   \n",
              "\n",
              "   total_credit_card_limit  avg_percentage_credit_card_limit_used_last_year  \\\n",
              "2                     6900                                             0.82   \n",
              "5                     6100                                             0.53   \n",
              "7                     4000                                             0.57   \n",
              "8                     7000                                             0.52   \n",
              "9                     4300                                             0.83   \n",
              "\n",
              "   saving_amount  checking_amount  is_employed  yearly_salary age  \\\n",
              "2        2085.00             3422            1          24500   1   \n",
              "5        4751.05             5298            1          29500   1   \n",
              "7         602.00             2757            1          31700   1   \n",
              "8        2575.00             2917            1          53300   1   \n",
              "9         722.00              892            1           5400   1   \n",
              "\n",
              "   dependent_number  loan_purpose_business  loan_purpose_emergency_funds  \\\n",
              "2                 8                      0                             0   \n",
              "5                 1                      0                             0   \n",
              "7                 8                      1                             0   \n",
              "8                 3                      0                             1   \n",
              "9                 7                      1                             0   \n",
              "\n",
              "   loan_purpose_home  loan_purpose_investment  loan_purpose_other  \n",
              "2                  0                        0                   1  \n",
              "5                  0                        0                   1  \n",
              "7                  0                        0                   0  \n",
              "8                  0                        0                   0  \n",
              "9                  0                        0                   0  "
            ]
          },
          "metadata": {
            "tags": []
          },
          "execution_count": 129
        }
      ]
    },
    {
      "cell_type": "code",
      "metadata": {
        "id": "ZLG54WIvhXmp",
        "colab_type": "code",
        "colab": {}
      },
      "source": [
        "from sklearn.model_selection import train_test_split\n",
        "x_train, x_test, y_train, y_test = train_test_split(df_x, df_y, test_size=0.3)"
      ],
      "execution_count": 0,
      "outputs": []
    },
    {
      "cell_type": "code",
      "metadata": {
        "id": "okbMG2M8hXms",
        "colab_type": "code",
        "outputId": "8769b80a-a65d-4311-83d7-eabcdd77d932",
        "colab": {
          "base_uri": "https://localhost:8080/",
          "height": 102
        }
      },
      "source": [
        "model_1= GradientBoostingClassifier(n_estimators = 300, learning_rate = 0.08, max_depth = 5, random_state = 0)\n",
        "model_1.fit(x_train, y_train)\n",
        "print('Train:')\n",
        "print (300, 0.08, 5, model_1.score(x_train,y_train))\n",
        "print('Test:')\n",
        "print (300, 0.08, 5, model_1.score(x_test,y_test))\n",
        "print('model made')"
      ],
      "execution_count": 131,
      "outputs": [
        {
          "output_type": "stream",
          "text": [
            "Train:\n",
            "300 0.08 5 0.948316695146446\n",
            "Test:\n",
            "300 0.08 5 0.9247394558298944\n",
            "model made\n"
          ],
          "name": "stdout"
        }
      ]
    },
    {
      "cell_type": "code",
      "metadata": {
        "id": "sz-fMdPKhXmv",
        "colab_type": "code",
        "colab": {}
      },
      "source": [
        "from sklearn.metrics import classification_report, confusion_matrix  ,accuracy_score\n",
        "y_pred = model_1.predict(x_test) "
      ],
      "execution_count": 0,
      "outputs": []
    },
    {
      "cell_type": "code",
      "metadata": {
        "id": "dMKN4gRBhXmx",
        "colab_type": "code",
        "outputId": "786fe158-1268-4aa5-a58a-1840aa49b977",
        "colab": {
          "base_uri": "https://localhost:8080/",
          "height": 34
        }
      },
      "source": [
        "accuracy_score(y_test, y_pred)"
      ],
      "execution_count": 133,
      "outputs": [
        {
          "output_type": "execute_result",
          "data": {
            "text/plain": [
              "0.9247394558298944"
            ]
          },
          "metadata": {
            "tags": []
          },
          "execution_count": 133
        }
      ]
    },
    {
      "cell_type": "code",
      "metadata": {
        "id": "iO91EbwahXm0",
        "colab_type": "code",
        "outputId": "77052268-5d40-439a-e0c5-59dcf01310c1",
        "colab": {
          "base_uri": "https://localhost:8080/",
          "height": 204
        }
      },
      "source": [
        "print(confusion_matrix(y_test, y_pred))  \n",
        "print(classification_report(y_test, y_pred))  "
      ],
      "execution_count": 134,
      "outputs": [
        {
          "output_type": "stream",
          "text": [
            "[[4613  427]\n",
            " [ 649 8608]]\n",
            "              precision    recall  f1-score   support\n",
            "\n",
            "         0.0       0.88      0.92      0.90      5040\n",
            "         1.0       0.95      0.93      0.94      9257\n",
            "\n",
            "    accuracy                           0.92     14297\n",
            "   macro avg       0.91      0.92      0.92     14297\n",
            "weighted avg       0.93      0.92      0.93     14297\n",
            "\n"
          ],
          "name": "stdout"
        }
      ]
    },
    {
      "cell_type": "markdown",
      "metadata": {
        "id": "2Q1hVdQRhXm5",
        "colab_type": "text"
      },
      "source": [
        "CALCULATING FEATURE IMPORTANCE"
      ]
    },
    {
      "cell_type": "code",
      "metadata": {
        "id": "ywmEndflhXm5",
        "colab_type": "code",
        "outputId": "d2fc00c5-1637-41f1-db2b-fd96dbd02c2b",
        "colab": {
          "base_uri": "https://localhost:8080/",
          "height": 289
        }
      },
      "source": [
        "featureimp = list (zip(df_x.columns, model_1.feature_importances_))\n",
        "featureimp.sort(key=lambda x: x[1], reverse = True)\n",
        "featureimp"
      ],
      "execution_count": 135,
      "outputs": [
        {
          "output_type": "execute_result",
          "data": {
            "text/plain": [
              "[('saving_amount', 0.4367980103403008),\n",
              " ('checking_amount', 0.33089003075949736),\n",
              " ('yearly_salary', 0.10625843362039829),\n",
              " ('total_credit_card_limit', 0.06841251364151783),\n",
              " ('currently_repaying_other_loans', 0.023507974029059533),\n",
              " ('avg_percentage_credit_card_limit_used_last_year', 0.012342545969427772),\n",
              " ('is_employed', 0.007429285499218225),\n",
              " ('dependent_number', 0.004250924226417874),\n",
              " ('loan_purpose_emergency_funds', 0.0028216476024121077),\n",
              " ('fully_repaid_previous_loans', 0.0016295709734352915),\n",
              " ('is_first_loan', 0.0015459154792517367),\n",
              " ('loan_purpose_other', 0.0014592300897717262),\n",
              " ('loan_purpose_investment', 0.0009071391132364411),\n",
              " ('age', 0.0008450230624141593),\n",
              " ('loan_purpose_business', 0.0005360918767016469),\n",
              " ('loan_purpose_home', 0.00036566371693928985)]"
            ]
          },
          "metadata": {
            "tags": []
          },
          "execution_count": 135
        }
      ]
    },
    {
      "cell_type": "markdown",
      "metadata": {
        "id": "7g_0euc-hXm8",
        "colab_type": "text"
      },
      "source": [
        "CORRELATION BETWEEN FEATURES \n",
        "\n",
        "HIGHER THE SAVING AMOUNT , MORE LIKELY THE LOAN IS REPAID. "
      ]
    },
    {
      "cell_type": "code",
      "metadata": {
        "id": "9TxN018ghXm8",
        "colab_type": "code",
        "outputId": "038b51e5-b8b6-4196-e5d1-070630dacd16",
        "colab": {
          "base_uri": "https://localhost:8080/",
          "height": 565
        }
      },
      "source": [
        "sample_data.corr()"
      ],
      "execution_count": 136,
      "outputs": [
        {
          "output_type": "execute_result",
          "data": {
            "text/html": [
              "<div>\n",
              "<style scoped>\n",
              "    .dataframe tbody tr th:only-of-type {\n",
              "        vertical-align: middle;\n",
              "    }\n",
              "\n",
              "    .dataframe tbody tr th {\n",
              "        vertical-align: top;\n",
              "    }\n",
              "\n",
              "    .dataframe thead th {\n",
              "        text-align: right;\n",
              "    }\n",
              "</style>\n",
              "<table border=\"1\" class=\"dataframe\">\n",
              "  <thead>\n",
              "    <tr style=\"text-align: right;\">\n",
              "      <th></th>\n",
              "      <th>is_first_loan</th>\n",
              "      <th>fully_repaid_previous_loans</th>\n",
              "      <th>currently_repaying_other_loans</th>\n",
              "      <th>total_credit_card_limit</th>\n",
              "      <th>avg_percentage_credit_card_limit_used_last_year</th>\n",
              "      <th>saving_amount</th>\n",
              "      <th>checking_amount</th>\n",
              "      <th>is_employed</th>\n",
              "      <th>yearly_salary</th>\n",
              "      <th>dependent_number</th>\n",
              "      <th>loan_repaid</th>\n",
              "      <th>loan_purpose_business</th>\n",
              "      <th>loan_purpose_emergency_funds</th>\n",
              "      <th>loan_purpose_home</th>\n",
              "      <th>loan_purpose_investment</th>\n",
              "      <th>loan_purpose_other</th>\n",
              "    </tr>\n",
              "  </thead>\n",
              "  <tbody>\n",
              "    <tr>\n",
              "      <th>is_first_loan</th>\n",
              "      <td>1.000000</td>\n",
              "      <td>-0.978266</td>\n",
              "      <td>-0.901884</td>\n",
              "      <td>0.004244</td>\n",
              "      <td>0.001190</td>\n",
              "      <td>0.009829</td>\n",
              "      <td>0.011345</td>\n",
              "      <td>-0.000380</td>\n",
              "      <td>-0.002678</td>\n",
              "      <td>-0.005861</td>\n",
              "      <td>0.012824</td>\n",
              "      <td>0.006942</td>\n",
              "      <td>-0.013316</td>\n",
              "      <td>0.003613</td>\n",
              "      <td>0.002527</td>\n",
              "      <td>-0.001679</td>\n",
              "    </tr>\n",
              "    <tr>\n",
              "      <th>fully_repaid_previous_loans</th>\n",
              "      <td>-0.978266</td>\n",
              "      <td>1.000000</td>\n",
              "      <td>0.880856</td>\n",
              "      <td>0.000473</td>\n",
              "      <td>0.001136</td>\n",
              "      <td>-0.007460</td>\n",
              "      <td>-0.008146</td>\n",
              "      <td>0.000750</td>\n",
              "      <td>0.003686</td>\n",
              "      <td>0.005888</td>\n",
              "      <td>-0.007093</td>\n",
              "      <td>-0.007659</td>\n",
              "      <td>0.012689</td>\n",
              "      <td>-0.003685</td>\n",
              "      <td>0.000597</td>\n",
              "      <td>-0.000414</td>\n",
              "    </tr>\n",
              "    <tr>\n",
              "      <th>currently_repaying_other_loans</th>\n",
              "      <td>-0.901884</td>\n",
              "      <td>0.880856</td>\n",
              "      <td>1.000000</td>\n",
              "      <td>-0.062559</td>\n",
              "      <td>0.000018</td>\n",
              "      <td>-0.085794</td>\n",
              "      <td>-0.085542</td>\n",
              "      <td>-0.044795</td>\n",
              "      <td>-0.060855</td>\n",
              "      <td>0.027246</td>\n",
              "      <td>-0.157397</td>\n",
              "      <td>-0.018867</td>\n",
              "      <td>0.033983</td>\n",
              "      <td>-0.004459</td>\n",
              "      <td>-0.013751</td>\n",
              "      <td>0.008472</td>\n",
              "    </tr>\n",
              "    <tr>\n",
              "      <th>total_credit_card_limit</th>\n",
              "      <td>0.004244</td>\n",
              "      <td>0.000473</td>\n",
              "      <td>-0.062559</td>\n",
              "      <td>1.000000</td>\n",
              "      <td>0.229357</td>\n",
              "      <td>0.206914</td>\n",
              "      <td>0.213970</td>\n",
              "      <td>0.160570</td>\n",
              "      <td>0.191317</td>\n",
              "      <td>-0.059595</td>\n",
              "      <td>0.407777</td>\n",
              "      <td>0.043577</td>\n",
              "      <td>-0.057239</td>\n",
              "      <td>-0.000298</td>\n",
              "      <td>0.033131</td>\n",
              "      <td>-0.030538</td>\n",
              "    </tr>\n",
              "    <tr>\n",
              "      <th>avg_percentage_credit_card_limit_used_last_year</th>\n",
              "      <td>0.001190</td>\n",
              "      <td>0.001136</td>\n",
              "      <td>0.000018</td>\n",
              "      <td>0.229357</td>\n",
              "      <td>1.000000</td>\n",
              "      <td>0.003229</td>\n",
              "      <td>0.000242</td>\n",
              "      <td>0.104286</td>\n",
              "      <td>0.046948</td>\n",
              "      <td>-0.002015</td>\n",
              "      <td>-0.007944</td>\n",
              "      <td>-0.009697</td>\n",
              "      <td>0.003926</td>\n",
              "      <td>-0.010819</td>\n",
              "      <td>0.011810</td>\n",
              "      <td>0.006645</td>\n",
              "    </tr>\n",
              "    <tr>\n",
              "      <th>saving_amount</th>\n",
              "      <td>0.009829</td>\n",
              "      <td>-0.007460</td>\n",
              "      <td>-0.085794</td>\n",
              "      <td>0.206914</td>\n",
              "      <td>0.003229</td>\n",
              "      <td>1.000000</td>\n",
              "      <td>0.260910</td>\n",
              "      <td>0.155793</td>\n",
              "      <td>0.221132</td>\n",
              "      <td>-0.067361</td>\n",
              "      <td>0.518534</td>\n",
              "      <td>0.045038</td>\n",
              "      <td>-0.078837</td>\n",
              "      <td>0.012160</td>\n",
              "      <td>0.045826</td>\n",
              "      <td>-0.039820</td>\n",
              "    </tr>\n",
              "    <tr>\n",
              "      <th>checking_amount</th>\n",
              "      <td>0.011345</td>\n",
              "      <td>-0.008146</td>\n",
              "      <td>-0.085542</td>\n",
              "      <td>0.213970</td>\n",
              "      <td>0.000242</td>\n",
              "      <td>0.260910</td>\n",
              "      <td>1.000000</td>\n",
              "      <td>0.157319</td>\n",
              "      <td>0.218754</td>\n",
              "      <td>-0.073799</td>\n",
              "      <td>0.513363</td>\n",
              "      <td>0.041641</td>\n",
              "      <td>-0.074291</td>\n",
              "      <td>0.013007</td>\n",
              "      <td>0.043094</td>\n",
              "      <td>-0.038355</td>\n",
              "    </tr>\n",
              "    <tr>\n",
              "      <th>is_employed</th>\n",
              "      <td>-0.000380</td>\n",
              "      <td>0.000750</td>\n",
              "      <td>-0.044795</td>\n",
              "      <td>0.160570</td>\n",
              "      <td>0.104286</td>\n",
              "      <td>0.155793</td>\n",
              "      <td>0.157319</td>\n",
              "      <td>1.000000</td>\n",
              "      <td>0.591256</td>\n",
              "      <td>-0.042867</td>\n",
              "      <td>0.305749</td>\n",
              "      <td>0.025119</td>\n",
              "      <td>-0.040674</td>\n",
              "      <td>0.009598</td>\n",
              "      <td>0.034891</td>\n",
              "      <td>-0.040120</td>\n",
              "    </tr>\n",
              "    <tr>\n",
              "      <th>yearly_salary</th>\n",
              "      <td>-0.002678</td>\n",
              "      <td>0.003686</td>\n",
              "      <td>-0.060855</td>\n",
              "      <td>0.191317</td>\n",
              "      <td>0.046948</td>\n",
              "      <td>0.221132</td>\n",
              "      <td>0.218754</td>\n",
              "      <td>0.591256</td>\n",
              "      <td>1.000000</td>\n",
              "      <td>-0.063607</td>\n",
              "      <td>0.429771</td>\n",
              "      <td>0.039462</td>\n",
              "      <td>-0.059411</td>\n",
              "      <td>0.008241</td>\n",
              "      <td>0.037305</td>\n",
              "      <td>-0.038716</td>\n",
              "    </tr>\n",
              "    <tr>\n",
              "      <th>dependent_number</th>\n",
              "      <td>-0.005861</td>\n",
              "      <td>0.005888</td>\n",
              "      <td>0.027246</td>\n",
              "      <td>-0.059595</td>\n",
              "      <td>-0.002015</td>\n",
              "      <td>-0.067361</td>\n",
              "      <td>-0.073799</td>\n",
              "      <td>-0.042867</td>\n",
              "      <td>-0.063607</td>\n",
              "      <td>1.000000</td>\n",
              "      <td>-0.136384</td>\n",
              "      <td>-0.003657</td>\n",
              "      <td>0.011459</td>\n",
              "      <td>-0.015922</td>\n",
              "      <td>-0.005931</td>\n",
              "      <td>0.018753</td>\n",
              "    </tr>\n",
              "    <tr>\n",
              "      <th>loan_repaid</th>\n",
              "      <td>0.012824</td>\n",
              "      <td>-0.007093</td>\n",
              "      <td>-0.157397</td>\n",
              "      <td>0.407777</td>\n",
              "      <td>-0.007944</td>\n",
              "      <td>0.518534</td>\n",
              "      <td>0.513363</td>\n",
              "      <td>0.305749</td>\n",
              "      <td>0.429771</td>\n",
              "      <td>-0.136384</td>\n",
              "      <td>1.000000</td>\n",
              "      <td>0.088177</td>\n",
              "      <td>-0.142721</td>\n",
              "      <td>0.024759</td>\n",
              "      <td>0.079986</td>\n",
              "      <td>-0.079813</td>\n",
              "    </tr>\n",
              "    <tr>\n",
              "      <th>loan_purpose_business</th>\n",
              "      <td>0.006942</td>\n",
              "      <td>-0.007659</td>\n",
              "      <td>-0.018867</td>\n",
              "      <td>0.043577</td>\n",
              "      <td>-0.009697</td>\n",
              "      <td>0.045038</td>\n",
              "      <td>0.041641</td>\n",
              "      <td>0.025119</td>\n",
              "      <td>0.039462</td>\n",
              "      <td>-0.003657</td>\n",
              "      <td>0.088177</td>\n",
              "      <td>1.000000</td>\n",
              "      <td>-0.238237</td>\n",
              "      <td>-0.306807</td>\n",
              "      <td>-0.289122</td>\n",
              "      <td>-0.222593</td>\n",
              "    </tr>\n",
              "    <tr>\n",
              "      <th>loan_purpose_emergency_funds</th>\n",
              "      <td>-0.013316</td>\n",
              "      <td>0.012689</td>\n",
              "      <td>0.033983</td>\n",
              "      <td>-0.057239</td>\n",
              "      <td>0.003926</td>\n",
              "      <td>-0.078837</td>\n",
              "      <td>-0.074291</td>\n",
              "      <td>-0.040674</td>\n",
              "      <td>-0.059411</td>\n",
              "      <td>0.011459</td>\n",
              "      <td>-0.142721</td>\n",
              "      <td>-0.238237</td>\n",
              "      <td>1.000000</td>\n",
              "      <td>-0.250231</td>\n",
              "      <td>-0.235807</td>\n",
              "      <td>-0.181546</td>\n",
              "    </tr>\n",
              "    <tr>\n",
              "      <th>loan_purpose_home</th>\n",
              "      <td>0.003613</td>\n",
              "      <td>-0.003685</td>\n",
              "      <td>-0.004459</td>\n",
              "      <td>-0.000298</td>\n",
              "      <td>-0.010819</td>\n",
              "      <td>0.012160</td>\n",
              "      <td>0.013007</td>\n",
              "      <td>0.009598</td>\n",
              "      <td>0.008241</td>\n",
              "      <td>-0.015922</td>\n",
              "      <td>0.024759</td>\n",
              "      <td>-0.306807</td>\n",
              "      <td>-0.250231</td>\n",
              "      <td>1.000000</td>\n",
              "      <td>-0.303678</td>\n",
              "      <td>-0.233799</td>\n",
              "    </tr>\n",
              "    <tr>\n",
              "      <th>loan_purpose_investment</th>\n",
              "      <td>0.002527</td>\n",
              "      <td>0.000597</td>\n",
              "      <td>-0.013751</td>\n",
              "      <td>0.033131</td>\n",
              "      <td>0.011810</td>\n",
              "      <td>0.045826</td>\n",
              "      <td>0.043094</td>\n",
              "      <td>0.034891</td>\n",
              "      <td>0.037305</td>\n",
              "      <td>-0.005931</td>\n",
              "      <td>0.079986</td>\n",
              "      <td>-0.289122</td>\n",
              "      <td>-0.235807</td>\n",
              "      <td>-0.303678</td>\n",
              "      <td>1.000000</td>\n",
              "      <td>-0.220322</td>\n",
              "    </tr>\n",
              "    <tr>\n",
              "      <th>loan_purpose_other</th>\n",
              "      <td>-0.001679</td>\n",
              "      <td>-0.000414</td>\n",
              "      <td>0.008472</td>\n",
              "      <td>-0.030538</td>\n",
              "      <td>0.006645</td>\n",
              "      <td>-0.039820</td>\n",
              "      <td>-0.038355</td>\n",
              "      <td>-0.040120</td>\n",
              "      <td>-0.038716</td>\n",
              "      <td>0.018753</td>\n",
              "      <td>-0.079813</td>\n",
              "      <td>-0.222593</td>\n",
              "      <td>-0.181546</td>\n",
              "      <td>-0.233799</td>\n",
              "      <td>-0.220322</td>\n",
              "      <td>1.000000</td>\n",
              "    </tr>\n",
              "  </tbody>\n",
              "</table>\n",
              "</div>"
            ],
            "text/plain": [
              "                                                 is_first_loan  \\\n",
              "is_first_loan                                         1.000000   \n",
              "fully_repaid_previous_loans                          -0.978266   \n",
              "currently_repaying_other_loans                       -0.901884   \n",
              "total_credit_card_limit                               0.004244   \n",
              "avg_percentage_credit_card_limit_used_last_year       0.001190   \n",
              "saving_amount                                         0.009829   \n",
              "checking_amount                                       0.011345   \n",
              "is_employed                                          -0.000380   \n",
              "yearly_salary                                        -0.002678   \n",
              "dependent_number                                     -0.005861   \n",
              "loan_repaid                                           0.012824   \n",
              "loan_purpose_business                                 0.006942   \n",
              "loan_purpose_emergency_funds                         -0.013316   \n",
              "loan_purpose_home                                     0.003613   \n",
              "loan_purpose_investment                               0.002527   \n",
              "loan_purpose_other                                   -0.001679   \n",
              "\n",
              "                                                 fully_repaid_previous_loans  \\\n",
              "is_first_loan                                                      -0.978266   \n",
              "fully_repaid_previous_loans                                         1.000000   \n",
              "currently_repaying_other_loans                                      0.880856   \n",
              "total_credit_card_limit                                             0.000473   \n",
              "avg_percentage_credit_card_limit_used_last_year                     0.001136   \n",
              "saving_amount                                                      -0.007460   \n",
              "checking_amount                                                    -0.008146   \n",
              "is_employed                                                         0.000750   \n",
              "yearly_salary                                                       0.003686   \n",
              "dependent_number                                                    0.005888   \n",
              "loan_repaid                                                        -0.007093   \n",
              "loan_purpose_business                                              -0.007659   \n",
              "loan_purpose_emergency_funds                                        0.012689   \n",
              "loan_purpose_home                                                  -0.003685   \n",
              "loan_purpose_investment                                             0.000597   \n",
              "loan_purpose_other                                                 -0.000414   \n",
              "\n",
              "                                                 currently_repaying_other_loans  \\\n",
              "is_first_loan                                                         -0.901884   \n",
              "fully_repaid_previous_loans                                            0.880856   \n",
              "currently_repaying_other_loans                                         1.000000   \n",
              "total_credit_card_limit                                               -0.062559   \n",
              "avg_percentage_credit_card_limit_used_last_year                        0.000018   \n",
              "saving_amount                                                         -0.085794   \n",
              "checking_amount                                                       -0.085542   \n",
              "is_employed                                                           -0.044795   \n",
              "yearly_salary                                                         -0.060855   \n",
              "dependent_number                                                       0.027246   \n",
              "loan_repaid                                                           -0.157397   \n",
              "loan_purpose_business                                                 -0.018867   \n",
              "loan_purpose_emergency_funds                                           0.033983   \n",
              "loan_purpose_home                                                     -0.004459   \n",
              "loan_purpose_investment                                               -0.013751   \n",
              "loan_purpose_other                                                     0.008472   \n",
              "\n",
              "                                                 total_credit_card_limit  \\\n",
              "is_first_loan                                                   0.004244   \n",
              "fully_repaid_previous_loans                                     0.000473   \n",
              "currently_repaying_other_loans                                 -0.062559   \n",
              "total_credit_card_limit                                         1.000000   \n",
              "avg_percentage_credit_card_limit_used_last_year                 0.229357   \n",
              "saving_amount                                                   0.206914   \n",
              "checking_amount                                                 0.213970   \n",
              "is_employed                                                     0.160570   \n",
              "yearly_salary                                                   0.191317   \n",
              "dependent_number                                               -0.059595   \n",
              "loan_repaid                                                     0.407777   \n",
              "loan_purpose_business                                           0.043577   \n",
              "loan_purpose_emergency_funds                                   -0.057239   \n",
              "loan_purpose_home                                              -0.000298   \n",
              "loan_purpose_investment                                         0.033131   \n",
              "loan_purpose_other                                             -0.030538   \n",
              "\n",
              "                                                 avg_percentage_credit_card_limit_used_last_year  \\\n",
              "is_first_loan                                                                           0.001190   \n",
              "fully_repaid_previous_loans                                                             0.001136   \n",
              "currently_repaying_other_loans                                                          0.000018   \n",
              "total_credit_card_limit                                                                 0.229357   \n",
              "avg_percentage_credit_card_limit_used_last_year                                         1.000000   \n",
              "saving_amount                                                                           0.003229   \n",
              "checking_amount                                                                         0.000242   \n",
              "is_employed                                                                             0.104286   \n",
              "yearly_salary                                                                           0.046948   \n",
              "dependent_number                                                                       -0.002015   \n",
              "loan_repaid                                                                            -0.007944   \n",
              "loan_purpose_business                                                                  -0.009697   \n",
              "loan_purpose_emergency_funds                                                            0.003926   \n",
              "loan_purpose_home                                                                      -0.010819   \n",
              "loan_purpose_investment                                                                 0.011810   \n",
              "loan_purpose_other                                                                      0.006645   \n",
              "\n",
              "                                                 saving_amount  \\\n",
              "is_first_loan                                         0.009829   \n",
              "fully_repaid_previous_loans                          -0.007460   \n",
              "currently_repaying_other_loans                       -0.085794   \n",
              "total_credit_card_limit                               0.206914   \n",
              "avg_percentage_credit_card_limit_used_last_year       0.003229   \n",
              "saving_amount                                         1.000000   \n",
              "checking_amount                                       0.260910   \n",
              "is_employed                                           0.155793   \n",
              "yearly_salary                                         0.221132   \n",
              "dependent_number                                     -0.067361   \n",
              "loan_repaid                                           0.518534   \n",
              "loan_purpose_business                                 0.045038   \n",
              "loan_purpose_emergency_funds                         -0.078837   \n",
              "loan_purpose_home                                     0.012160   \n",
              "loan_purpose_investment                               0.045826   \n",
              "loan_purpose_other                                   -0.039820   \n",
              "\n",
              "                                                 checking_amount  is_employed  \\\n",
              "is_first_loan                                           0.011345    -0.000380   \n",
              "fully_repaid_previous_loans                            -0.008146     0.000750   \n",
              "currently_repaying_other_loans                         -0.085542    -0.044795   \n",
              "total_credit_card_limit                                 0.213970     0.160570   \n",
              "avg_percentage_credit_card_limit_used_last_year         0.000242     0.104286   \n",
              "saving_amount                                           0.260910     0.155793   \n",
              "checking_amount                                         1.000000     0.157319   \n",
              "is_employed                                             0.157319     1.000000   \n",
              "yearly_salary                                           0.218754     0.591256   \n",
              "dependent_number                                       -0.073799    -0.042867   \n",
              "loan_repaid                                             0.513363     0.305749   \n",
              "loan_purpose_business                                   0.041641     0.025119   \n",
              "loan_purpose_emergency_funds                           -0.074291    -0.040674   \n",
              "loan_purpose_home                                       0.013007     0.009598   \n",
              "loan_purpose_investment                                 0.043094     0.034891   \n",
              "loan_purpose_other                                     -0.038355    -0.040120   \n",
              "\n",
              "                                                 yearly_salary  \\\n",
              "is_first_loan                                        -0.002678   \n",
              "fully_repaid_previous_loans                           0.003686   \n",
              "currently_repaying_other_loans                       -0.060855   \n",
              "total_credit_card_limit                               0.191317   \n",
              "avg_percentage_credit_card_limit_used_last_year       0.046948   \n",
              "saving_amount                                         0.221132   \n",
              "checking_amount                                       0.218754   \n",
              "is_employed                                           0.591256   \n",
              "yearly_salary                                         1.000000   \n",
              "dependent_number                                     -0.063607   \n",
              "loan_repaid                                           0.429771   \n",
              "loan_purpose_business                                 0.039462   \n",
              "loan_purpose_emergency_funds                         -0.059411   \n",
              "loan_purpose_home                                     0.008241   \n",
              "loan_purpose_investment                               0.037305   \n",
              "loan_purpose_other                                   -0.038716   \n",
              "\n",
              "                                                 dependent_number  \\\n",
              "is_first_loan                                           -0.005861   \n",
              "fully_repaid_previous_loans                              0.005888   \n",
              "currently_repaying_other_loans                           0.027246   \n",
              "total_credit_card_limit                                 -0.059595   \n",
              "avg_percentage_credit_card_limit_used_last_year         -0.002015   \n",
              "saving_amount                                           -0.067361   \n",
              "checking_amount                                         -0.073799   \n",
              "is_employed                                             -0.042867   \n",
              "yearly_salary                                           -0.063607   \n",
              "dependent_number                                         1.000000   \n",
              "loan_repaid                                             -0.136384   \n",
              "loan_purpose_business                                   -0.003657   \n",
              "loan_purpose_emergency_funds                             0.011459   \n",
              "loan_purpose_home                                       -0.015922   \n",
              "loan_purpose_investment                                 -0.005931   \n",
              "loan_purpose_other                                       0.018753   \n",
              "\n",
              "                                                 loan_repaid  \\\n",
              "is_first_loan                                       0.012824   \n",
              "fully_repaid_previous_loans                        -0.007093   \n",
              "currently_repaying_other_loans                     -0.157397   \n",
              "total_credit_card_limit                             0.407777   \n",
              "avg_percentage_credit_card_limit_used_last_year    -0.007944   \n",
              "saving_amount                                       0.518534   \n",
              "checking_amount                                     0.513363   \n",
              "is_employed                                         0.305749   \n",
              "yearly_salary                                       0.429771   \n",
              "dependent_number                                   -0.136384   \n",
              "loan_repaid                                         1.000000   \n",
              "loan_purpose_business                               0.088177   \n",
              "loan_purpose_emergency_funds                       -0.142721   \n",
              "loan_purpose_home                                   0.024759   \n",
              "loan_purpose_investment                             0.079986   \n",
              "loan_purpose_other                                 -0.079813   \n",
              "\n",
              "                                                 loan_purpose_business  \\\n",
              "is_first_loan                                                 0.006942   \n",
              "fully_repaid_previous_loans                                  -0.007659   \n",
              "currently_repaying_other_loans                               -0.018867   \n",
              "total_credit_card_limit                                       0.043577   \n",
              "avg_percentage_credit_card_limit_used_last_year              -0.009697   \n",
              "saving_amount                                                 0.045038   \n",
              "checking_amount                                               0.041641   \n",
              "is_employed                                                   0.025119   \n",
              "yearly_salary                                                 0.039462   \n",
              "dependent_number                                             -0.003657   \n",
              "loan_repaid                                                   0.088177   \n",
              "loan_purpose_business                                         1.000000   \n",
              "loan_purpose_emergency_funds                                 -0.238237   \n",
              "loan_purpose_home                                            -0.306807   \n",
              "loan_purpose_investment                                      -0.289122   \n",
              "loan_purpose_other                                           -0.222593   \n",
              "\n",
              "                                                 loan_purpose_emergency_funds  \\\n",
              "is_first_loan                                                       -0.013316   \n",
              "fully_repaid_previous_loans                                          0.012689   \n",
              "currently_repaying_other_loans                                       0.033983   \n",
              "total_credit_card_limit                                             -0.057239   \n",
              "avg_percentage_credit_card_limit_used_last_year                      0.003926   \n",
              "saving_amount                                                       -0.078837   \n",
              "checking_amount                                                     -0.074291   \n",
              "is_employed                                                         -0.040674   \n",
              "yearly_salary                                                       -0.059411   \n",
              "dependent_number                                                     0.011459   \n",
              "loan_repaid                                                         -0.142721   \n",
              "loan_purpose_business                                               -0.238237   \n",
              "loan_purpose_emergency_funds                                         1.000000   \n",
              "loan_purpose_home                                                   -0.250231   \n",
              "loan_purpose_investment                                             -0.235807   \n",
              "loan_purpose_other                                                  -0.181546   \n",
              "\n",
              "                                                 loan_purpose_home  \\\n",
              "is_first_loan                                             0.003613   \n",
              "fully_repaid_previous_loans                              -0.003685   \n",
              "currently_repaying_other_loans                           -0.004459   \n",
              "total_credit_card_limit                                  -0.000298   \n",
              "avg_percentage_credit_card_limit_used_last_year          -0.010819   \n",
              "saving_amount                                             0.012160   \n",
              "checking_amount                                           0.013007   \n",
              "is_employed                                               0.009598   \n",
              "yearly_salary                                             0.008241   \n",
              "dependent_number                                         -0.015922   \n",
              "loan_repaid                                               0.024759   \n",
              "loan_purpose_business                                    -0.306807   \n",
              "loan_purpose_emergency_funds                             -0.250231   \n",
              "loan_purpose_home                                         1.000000   \n",
              "loan_purpose_investment                                  -0.303678   \n",
              "loan_purpose_other                                       -0.233799   \n",
              "\n",
              "                                                 loan_purpose_investment  \\\n",
              "is_first_loan                                                   0.002527   \n",
              "fully_repaid_previous_loans                                     0.000597   \n",
              "currently_repaying_other_loans                                 -0.013751   \n",
              "total_credit_card_limit                                         0.033131   \n",
              "avg_percentage_credit_card_limit_used_last_year                 0.011810   \n",
              "saving_amount                                                   0.045826   \n",
              "checking_amount                                                 0.043094   \n",
              "is_employed                                                     0.034891   \n",
              "yearly_salary                                                   0.037305   \n",
              "dependent_number                                               -0.005931   \n",
              "loan_repaid                                                     0.079986   \n",
              "loan_purpose_business                                          -0.289122   \n",
              "loan_purpose_emergency_funds                                   -0.235807   \n",
              "loan_purpose_home                                              -0.303678   \n",
              "loan_purpose_investment                                         1.000000   \n",
              "loan_purpose_other                                             -0.220322   \n",
              "\n",
              "                                                 loan_purpose_other  \n",
              "is_first_loan                                             -0.001679  \n",
              "fully_repaid_previous_loans                               -0.000414  \n",
              "currently_repaying_other_loans                             0.008472  \n",
              "total_credit_card_limit                                   -0.030538  \n",
              "avg_percentage_credit_card_limit_used_last_year            0.006645  \n",
              "saving_amount                                             -0.039820  \n",
              "checking_amount                                           -0.038355  \n",
              "is_employed                                               -0.040120  \n",
              "yearly_salary                                             -0.038716  \n",
              "dependent_number                                           0.018753  \n",
              "loan_repaid                                               -0.079813  \n",
              "loan_purpose_business                                     -0.222593  \n",
              "loan_purpose_emergency_funds                              -0.181546  \n",
              "loan_purpose_home                                         -0.233799  \n",
              "loan_purpose_investment                                   -0.220322  \n",
              "loan_purpose_other                                         1.000000  "
            ]
          },
          "metadata": {
            "tags": []
          },
          "execution_count": 136
        }
      ]
    },
    {
      "cell_type": "code",
      "metadata": {
        "id": "aHeqWTVmhXm_",
        "colab_type": "code",
        "colab": {}
      },
      "source": [
        "from sklearn.ensemble import RandomForestClassifier\n",
        "\n",
        "classifier = RandomForestClassifier(n_estimators=20, random_state=0)\n",
        "classifier.fit(x_train, y_train)\n",
        "y_pred = classifier.predict(x_test)"
      ],
      "execution_count": 0,
      "outputs": []
    },
    {
      "cell_type": "code",
      "metadata": {
        "id": "njlzt1uFhXnB",
        "colab_type": "code",
        "outputId": "f6241602-42dc-40e6-85b4-6eedbfdd3540",
        "colab": {
          "base_uri": "https://localhost:8080/",
          "height": 34
        }
      },
      "source": [
        "accuracy_score(y_test, y_pred)"
      ],
      "execution_count": 138,
      "outputs": [
        {
          "output_type": "execute_result",
          "data": {
            "text/plain": [
              "0.9194936000559558"
            ]
          },
          "metadata": {
            "tags": []
          },
          "execution_count": 138
        }
      ]
    },
    {
      "cell_type": "code",
      "metadata": {
        "id": "4kz1GrMvhXnD",
        "colab_type": "code",
        "outputId": "1e3cb5ce-73c8-47ec-b9fc-d4b5418b4016",
        "colab": {
          "base_uri": "https://localhost:8080/",
          "height": 204
        }
      },
      "source": [
        "print(confusion_matrix(y_test, y_pred))  \n",
        "print(classification_report(y_test, y_pred))"
      ],
      "execution_count": 139,
      "outputs": [
        {
          "output_type": "stream",
          "text": [
            "[[4598  442]\n",
            " [ 709 8548]]\n",
            "              precision    recall  f1-score   support\n",
            "\n",
            "         0.0       0.87      0.91      0.89      5040\n",
            "         1.0       0.95      0.92      0.94      9257\n",
            "\n",
            "    accuracy                           0.92     14297\n",
            "   macro avg       0.91      0.92      0.91     14297\n",
            "weighted avg       0.92      0.92      0.92     14297\n",
            "\n"
          ],
          "name": "stdout"
        }
      ]
    },
    {
      "cell_type": "code",
      "metadata": {
        "id": "o6_97Y4mhXnG",
        "colab_type": "code",
        "colab": {}
      },
      "source": [
        "actual_x_pred= later_test.drop('loan_repaid' , 1)"
      ],
      "execution_count": 0,
      "outputs": []
    },
    {
      "cell_type": "code",
      "metadata": {
        "id": "JnD6UK8rhXnL",
        "colab_type": "code",
        "colab": {}
      },
      "source": [
        "actual_y_pred = model_1.predict(actual_x_pred)"
      ],
      "execution_count": 0,
      "outputs": []
    },
    {
      "cell_type": "code",
      "metadata": {
        "id": "odsSF4IchXnQ",
        "colab_type": "code",
        "outputId": "ee7a9e33-e589-4b8c-85e1-380fb70ab48d",
        "colab": {
          "base_uri": "https://localhost:8080/",
          "height": 34
        }
      },
      "source": [
        "actual_y_pred"
      ],
      "execution_count": 142,
      "outputs": [
        {
          "output_type": "execute_result",
          "data": {
            "text/plain": [
              "array([1., 1., 0., ..., 1., 0., 0.])"
            ]
          },
          "metadata": {
            "tags": []
          },
          "execution_count": 142
        }
      ]
    },
    {
      "cell_type": "code",
      "metadata": {
        "id": "eyzH0cSxhXnS",
        "colab_type": "code",
        "colab": {}
      },
      "source": [
        "later_test['pred_loan_repaid'] = actual_y_pred"
      ],
      "execution_count": 0,
      "outputs": []
    },
    {
      "cell_type": "code",
      "metadata": {
        "id": "0lJbEOBJhXnV",
        "colab_type": "code",
        "outputId": "a99eb8b7-6a21-48f2-c7f2-b42008f962c0",
        "colab": {
          "base_uri": "https://localhost:8080/",
          "height": 224
        }
      },
      "source": [
        "later_test.head()"
      ],
      "execution_count": 144,
      "outputs": [
        {
          "output_type": "execute_result",
          "data": {
            "text/html": [
              "<div>\n",
              "<style scoped>\n",
              "    .dataframe tbody tr th:only-of-type {\n",
              "        vertical-align: middle;\n",
              "    }\n",
              "\n",
              "    .dataframe tbody tr th {\n",
              "        vertical-align: top;\n",
              "    }\n",
              "\n",
              "    .dataframe thead th {\n",
              "        text-align: right;\n",
              "    }\n",
              "</style>\n",
              "<table border=\"1\" class=\"dataframe\">\n",
              "  <thead>\n",
              "    <tr style=\"text-align: right;\">\n",
              "      <th></th>\n",
              "      <th>is_first_loan</th>\n",
              "      <th>fully_repaid_previous_loans</th>\n",
              "      <th>currently_repaying_other_loans</th>\n",
              "      <th>total_credit_card_limit</th>\n",
              "      <th>avg_percentage_credit_card_limit_used_last_year</th>\n",
              "      <th>saving_amount</th>\n",
              "      <th>checking_amount</th>\n",
              "      <th>is_employed</th>\n",
              "      <th>yearly_salary</th>\n",
              "      <th>age</th>\n",
              "      <th>dependent_number</th>\n",
              "      <th>loan_repaid</th>\n",
              "      <th>loan_purpose_business</th>\n",
              "      <th>loan_purpose_emergency_funds</th>\n",
              "      <th>loan_purpose_home</th>\n",
              "      <th>loan_purpose_investment</th>\n",
              "      <th>loan_purpose_other</th>\n",
              "      <th>pred_loan_repaid</th>\n",
              "    </tr>\n",
              "  </thead>\n",
              "  <tbody>\n",
              "    <tr>\n",
              "      <th>0</th>\n",
              "      <td>1</td>\n",
              "      <td>-1.0</td>\n",
              "      <td>-1.0</td>\n",
              "      <td>7700</td>\n",
              "      <td>0.49</td>\n",
              "      <td>3285.0</td>\n",
              "      <td>1073</td>\n",
              "      <td>0</td>\n",
              "      <td>0</td>\n",
              "      <td>2</td>\n",
              "      <td>3</td>\n",
              "      <td>-1.0</td>\n",
              "      <td>1</td>\n",
              "      <td>0</td>\n",
              "      <td>0</td>\n",
              "      <td>0</td>\n",
              "      <td>0</td>\n",
              "      <td>1.0</td>\n",
              "    </tr>\n",
              "    <tr>\n",
              "      <th>1</th>\n",
              "      <td>0</td>\n",
              "      <td>1.0</td>\n",
              "      <td>0.0</td>\n",
              "      <td>4500</td>\n",
              "      <td>1.02</td>\n",
              "      <td>636.0</td>\n",
              "      <td>5299</td>\n",
              "      <td>1</td>\n",
              "      <td>13500</td>\n",
              "      <td>1</td>\n",
              "      <td>1</td>\n",
              "      <td>-1.0</td>\n",
              "      <td>0</td>\n",
              "      <td>0</td>\n",
              "      <td>0</td>\n",
              "      <td>1</td>\n",
              "      <td>0</td>\n",
              "      <td>1.0</td>\n",
              "    </tr>\n",
              "    <tr>\n",
              "      <th>3</th>\n",
              "      <td>0</td>\n",
              "      <td>1.0</td>\n",
              "      <td>0.0</td>\n",
              "      <td>1200</td>\n",
              "      <td>0.82</td>\n",
              "      <td>358.0</td>\n",
              "      <td>3388</td>\n",
              "      <td>0</td>\n",
              "      <td>0</td>\n",
              "      <td>1</td>\n",
              "      <td>1</td>\n",
              "      <td>-1.0</td>\n",
              "      <td>0</td>\n",
              "      <td>0</td>\n",
              "      <td>0</td>\n",
              "      <td>1</td>\n",
              "      <td>0</td>\n",
              "      <td>0.0</td>\n",
              "    </tr>\n",
              "    <tr>\n",
              "      <th>4</th>\n",
              "      <td>0</td>\n",
              "      <td>0.0</td>\n",
              "      <td>0.0</td>\n",
              "      <td>6900</td>\n",
              "      <td>0.80</td>\n",
              "      <td>2138.0</td>\n",
              "      <td>4282</td>\n",
              "      <td>1</td>\n",
              "      <td>18100</td>\n",
              "      <td>1</td>\n",
              "      <td>1</td>\n",
              "      <td>-1.0</td>\n",
              "      <td>0</td>\n",
              "      <td>1</td>\n",
              "      <td>0</td>\n",
              "      <td>0</td>\n",
              "      <td>0</td>\n",
              "      <td>1.0</td>\n",
              "    </tr>\n",
              "    <tr>\n",
              "      <th>6</th>\n",
              "      <td>1</td>\n",
              "      <td>-1.0</td>\n",
              "      <td>-1.0</td>\n",
              "      <td>600</td>\n",
              "      <td>0.89</td>\n",
              "      <td>305.0</td>\n",
              "      <td>1456</td>\n",
              "      <td>0</td>\n",
              "      <td>0</td>\n",
              "      <td>2</td>\n",
              "      <td>2</td>\n",
              "      <td>-1.0</td>\n",
              "      <td>0</td>\n",
              "      <td>1</td>\n",
              "      <td>0</td>\n",
              "      <td>0</td>\n",
              "      <td>0</td>\n",
              "      <td>0.0</td>\n",
              "    </tr>\n",
              "  </tbody>\n",
              "</table>\n",
              "</div>"
            ],
            "text/plain": [
              "   is_first_loan  fully_repaid_previous_loans  currently_repaying_other_loans  \\\n",
              "0              1                         -1.0                            -1.0   \n",
              "1              0                          1.0                             0.0   \n",
              "3              0                          1.0                             0.0   \n",
              "4              0                          0.0                             0.0   \n",
              "6              1                         -1.0                            -1.0   \n",
              "\n",
              "   total_credit_card_limit  avg_percentage_credit_card_limit_used_last_year  \\\n",
              "0                     7700                                             0.49   \n",
              "1                     4500                                             1.02   \n",
              "3                     1200                                             0.82   \n",
              "4                     6900                                             0.80   \n",
              "6                      600                                             0.89   \n",
              "\n",
              "   saving_amount  checking_amount  is_employed  yearly_salary age  \\\n",
              "0         3285.0             1073            0              0   2   \n",
              "1          636.0             5299            1          13500   1   \n",
              "3          358.0             3388            0              0   1   \n",
              "4         2138.0             4282            1          18100   1   \n",
              "6          305.0             1456            0              0   2   \n",
              "\n",
              "   dependent_number  loan_repaid  loan_purpose_business  \\\n",
              "0                 3         -1.0                      1   \n",
              "1                 1         -1.0                      0   \n",
              "3                 1         -1.0                      0   \n",
              "4                 1         -1.0                      0   \n",
              "6                 2         -1.0                      0   \n",
              "\n",
              "   loan_purpose_emergency_funds  loan_purpose_home  loan_purpose_investment  \\\n",
              "0                             0                  0                        0   \n",
              "1                             0                  0                        1   \n",
              "3                             0                  0                        1   \n",
              "4                             1                  0                        0   \n",
              "6                             1                  0                        0   \n",
              "\n",
              "   loan_purpose_other  pred_loan_repaid  \n",
              "0                   0               1.0  \n",
              "1                   0               1.0  \n",
              "3                   0               0.0  \n",
              "4                   0               1.0  \n",
              "6                   0               0.0  "
            ]
          },
          "metadata": {
            "tags": []
          },
          "execution_count": 144
        }
      ]
    },
    {
      "cell_type": "code",
      "metadata": {
        "id": "yiOhpGUQhXnY",
        "colab_type": "code",
        "outputId": "150287e9-35f7-4451-e926-dbc7c0765729",
        "colab": {
          "base_uri": "https://localhost:8080/",
          "height": 119
        }
      },
      "source": [
        "loan_id.head()"
      ],
      "execution_count": 145,
      "outputs": [
        {
          "output_type": "execute_result",
          "data": {
            "text/plain": [
              "0    289774\n",
              "1    482590\n",
              "3    207797\n",
              "4    828078\n",
              "6    568977\n",
              "Name: loan_id, dtype: int64"
            ]
          },
          "metadata": {
            "tags": []
          },
          "execution_count": 145
        }
      ]
    },
    {
      "cell_type": "code",
      "metadata": {
        "id": "p0zOWaHGhXnb",
        "colab_type": "code",
        "colab": {}
      },
      "source": [
        "later_test = pd.merge(later_test,loan_id, left_index=True, right_index=True)"
      ],
      "execution_count": 0,
      "outputs": []
    },
    {
      "cell_type": "code",
      "metadata": {
        "id": "sSVkTddZhXnd",
        "colab_type": "code",
        "outputId": "a41a829b-29fa-499b-b200-e00869a32122",
        "colab": {
          "base_uri": "https://localhost:8080/",
          "height": 224
        }
      },
      "source": [
        "later_test.head()"
      ],
      "execution_count": 147,
      "outputs": [
        {
          "output_type": "execute_result",
          "data": {
            "text/html": [
              "<div>\n",
              "<style scoped>\n",
              "    .dataframe tbody tr th:only-of-type {\n",
              "        vertical-align: middle;\n",
              "    }\n",
              "\n",
              "    .dataframe tbody tr th {\n",
              "        vertical-align: top;\n",
              "    }\n",
              "\n",
              "    .dataframe thead th {\n",
              "        text-align: right;\n",
              "    }\n",
              "</style>\n",
              "<table border=\"1\" class=\"dataframe\">\n",
              "  <thead>\n",
              "    <tr style=\"text-align: right;\">\n",
              "      <th></th>\n",
              "      <th>is_first_loan</th>\n",
              "      <th>fully_repaid_previous_loans</th>\n",
              "      <th>currently_repaying_other_loans</th>\n",
              "      <th>total_credit_card_limit</th>\n",
              "      <th>avg_percentage_credit_card_limit_used_last_year</th>\n",
              "      <th>saving_amount</th>\n",
              "      <th>checking_amount</th>\n",
              "      <th>is_employed</th>\n",
              "      <th>yearly_salary</th>\n",
              "      <th>age</th>\n",
              "      <th>dependent_number</th>\n",
              "      <th>loan_repaid</th>\n",
              "      <th>loan_purpose_business</th>\n",
              "      <th>loan_purpose_emergency_funds</th>\n",
              "      <th>loan_purpose_home</th>\n",
              "      <th>loan_purpose_investment</th>\n",
              "      <th>loan_purpose_other</th>\n",
              "      <th>pred_loan_repaid</th>\n",
              "      <th>loan_id</th>\n",
              "    </tr>\n",
              "  </thead>\n",
              "  <tbody>\n",
              "    <tr>\n",
              "      <th>0</th>\n",
              "      <td>1</td>\n",
              "      <td>-1.0</td>\n",
              "      <td>-1.0</td>\n",
              "      <td>7700</td>\n",
              "      <td>0.49</td>\n",
              "      <td>3285.0</td>\n",
              "      <td>1073</td>\n",
              "      <td>0</td>\n",
              "      <td>0</td>\n",
              "      <td>2</td>\n",
              "      <td>3</td>\n",
              "      <td>-1.0</td>\n",
              "      <td>1</td>\n",
              "      <td>0</td>\n",
              "      <td>0</td>\n",
              "      <td>0</td>\n",
              "      <td>0</td>\n",
              "      <td>1.0</td>\n",
              "      <td>289774</td>\n",
              "    </tr>\n",
              "    <tr>\n",
              "      <th>1</th>\n",
              "      <td>0</td>\n",
              "      <td>1.0</td>\n",
              "      <td>0.0</td>\n",
              "      <td>4500</td>\n",
              "      <td>1.02</td>\n",
              "      <td>636.0</td>\n",
              "      <td>5299</td>\n",
              "      <td>1</td>\n",
              "      <td>13500</td>\n",
              "      <td>1</td>\n",
              "      <td>1</td>\n",
              "      <td>-1.0</td>\n",
              "      <td>0</td>\n",
              "      <td>0</td>\n",
              "      <td>0</td>\n",
              "      <td>1</td>\n",
              "      <td>0</td>\n",
              "      <td>1.0</td>\n",
              "      <td>482590</td>\n",
              "    </tr>\n",
              "    <tr>\n",
              "      <th>3</th>\n",
              "      <td>0</td>\n",
              "      <td>1.0</td>\n",
              "      <td>0.0</td>\n",
              "      <td>1200</td>\n",
              "      <td>0.82</td>\n",
              "      <td>358.0</td>\n",
              "      <td>3388</td>\n",
              "      <td>0</td>\n",
              "      <td>0</td>\n",
              "      <td>1</td>\n",
              "      <td>1</td>\n",
              "      <td>-1.0</td>\n",
              "      <td>0</td>\n",
              "      <td>0</td>\n",
              "      <td>0</td>\n",
              "      <td>1</td>\n",
              "      <td>0</td>\n",
              "      <td>0.0</td>\n",
              "      <td>207797</td>\n",
              "    </tr>\n",
              "    <tr>\n",
              "      <th>4</th>\n",
              "      <td>0</td>\n",
              "      <td>0.0</td>\n",
              "      <td>0.0</td>\n",
              "      <td>6900</td>\n",
              "      <td>0.80</td>\n",
              "      <td>2138.0</td>\n",
              "      <td>4282</td>\n",
              "      <td>1</td>\n",
              "      <td>18100</td>\n",
              "      <td>1</td>\n",
              "      <td>1</td>\n",
              "      <td>-1.0</td>\n",
              "      <td>0</td>\n",
              "      <td>1</td>\n",
              "      <td>0</td>\n",
              "      <td>0</td>\n",
              "      <td>0</td>\n",
              "      <td>1.0</td>\n",
              "      <td>828078</td>\n",
              "    </tr>\n",
              "    <tr>\n",
              "      <th>6</th>\n",
              "      <td>1</td>\n",
              "      <td>-1.0</td>\n",
              "      <td>-1.0</td>\n",
              "      <td>600</td>\n",
              "      <td>0.89</td>\n",
              "      <td>305.0</td>\n",
              "      <td>1456</td>\n",
              "      <td>0</td>\n",
              "      <td>0</td>\n",
              "      <td>2</td>\n",
              "      <td>2</td>\n",
              "      <td>-1.0</td>\n",
              "      <td>0</td>\n",
              "      <td>1</td>\n",
              "      <td>0</td>\n",
              "      <td>0</td>\n",
              "      <td>0</td>\n",
              "      <td>0.0</td>\n",
              "      <td>568977</td>\n",
              "    </tr>\n",
              "  </tbody>\n",
              "</table>\n",
              "</div>"
            ],
            "text/plain": [
              "   is_first_loan  fully_repaid_previous_loans  currently_repaying_other_loans  \\\n",
              "0              1                         -1.0                            -1.0   \n",
              "1              0                          1.0                             0.0   \n",
              "3              0                          1.0                             0.0   \n",
              "4              0                          0.0                             0.0   \n",
              "6              1                         -1.0                            -1.0   \n",
              "\n",
              "   total_credit_card_limit  avg_percentage_credit_card_limit_used_last_year  \\\n",
              "0                     7700                                             0.49   \n",
              "1                     4500                                             1.02   \n",
              "3                     1200                                             0.82   \n",
              "4                     6900                                             0.80   \n",
              "6                      600                                             0.89   \n",
              "\n",
              "   saving_amount  checking_amount  is_employed  yearly_salary age  \\\n",
              "0         3285.0             1073            0              0   2   \n",
              "1          636.0             5299            1          13500   1   \n",
              "3          358.0             3388            0              0   1   \n",
              "4         2138.0             4282            1          18100   1   \n",
              "6          305.0             1456            0              0   2   \n",
              "\n",
              "   dependent_number  loan_repaid  loan_purpose_business  \\\n",
              "0                 3         -1.0                      1   \n",
              "1                 1         -1.0                      0   \n",
              "3                 1         -1.0                      0   \n",
              "4                 1         -1.0                      0   \n",
              "6                 2         -1.0                      0   \n",
              "\n",
              "   loan_purpose_emergency_funds  loan_purpose_home  loan_purpose_investment  \\\n",
              "0                             0                  0                        0   \n",
              "1                             0                  0                        1   \n",
              "3                             0                  0                        1   \n",
              "4                             1                  0                        0   \n",
              "6                             1                  0                        0   \n",
              "\n",
              "   loan_purpose_other  pred_loan_repaid  loan_id  \n",
              "0                   0               1.0   289774  \n",
              "1                   0               1.0   482590  \n",
              "3                   0               0.0   207797  \n",
              "4                   0               1.0   828078  \n",
              "6                   0               0.0   568977  "
            ]
          },
          "metadata": {
            "tags": []
          },
          "execution_count": 147
        }
      ]
    },
    {
      "cell_type": "code",
      "metadata": {
        "id": "3WNycmeKhXnf",
        "colab_type": "code",
        "colab": {}
      },
      "source": [
        "later_test.to_csv(\"pred_final_data.csv\")"
      ],
      "execution_count": 0,
      "outputs": []
    },
    {
      "cell_type": "code",
      "metadata": {
        "id": "ag2PiPfRhXni",
        "colab_type": "code",
        "colab": {}
      },
      "source": [
        "final_cust=later_test['loan_id'].loc[(later_test['pred_loan_repaid'] == 1.0)]\n"
      ],
      "execution_count": 0,
      "outputs": []
    },
    {
      "cell_type": "code",
      "metadata": {
        "id": "a8HhoBkzx7B3",
        "colab_type": "code",
        "colab": {}
      },
      "source": [
        "final_cust=pd.DataFrame(list(final_cust))\n",
        "final_cust.to_csv(\"final_loan_id.csv\")"
      ],
      "execution_count": 0,
      "outputs": []
    },
    {
      "cell_type": "code",
      "metadata": {
        "id": "3ut2pNVqndsU",
        "colab_type": "code",
        "colab": {}
      },
      "source": [
        ""
      ],
      "execution_count": 0,
      "outputs": []
    }
  ]
}